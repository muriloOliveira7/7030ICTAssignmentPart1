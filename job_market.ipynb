{
 "cells": [
  {
   "cell_type": "code",
   "execution_count": 1,
   "metadata": {
    "collapsed": true
   },
   "outputs": [
    {
     "data": {
      "text/plain": "         Id                                              Title  \\\n0  37404348                           Casual Stock Replenisher   \n1  37404337                           Casual Stock Replenisher   \n2  37404356  RETAIL SALES SUPERSTARS and STYLISTS Wanted - ...   \n3  37404330                              Team member - Belrose   \n4  37404308  Business Banking Contact Centre Specialist, Ni...   \n\n                                          Company                      Date  \\\n0                                     Aldi Stores  2018-10-07T00:00:00.000Z   \n1                                     Aldi Stores  2018-10-07T00:00:00.000Z   \n2                             LB Creative Pty Ltd  2018-10-07T00:00:00.000Z   \n3                          Anaconda Group Pty Ltd  2018-10-07T00:00:00.000Z   \n4  Commonwealth Bank - Business & Private Banking  2018-10-07T00:00:00.000Z   \n\n                  Location                         Area  \\\n0                   Sydney  North West & Hills District   \n1    Richmond & Hawkesbury                          NaN   \n2                 Brisbane          CBD & Inner Suburbs   \n3  Gosford & Central Coast                          NaN   \n4                   Sydney        Ryde & Macquarie Park   \n\n                   Classification  SubClassification  \\\n0      Retail & Consumer Products  Retail Assistants   \n1      Retail & Consumer Products  Retail Assistants   \n2      Retail & Consumer Products  Retail Assistants   \n3      Retail & Consumer Products  Retail Assistants   \n4  Call Centre & Customer Service    Sales - Inbound   \n\n                                         Requirement FullDescription  \\\n0  Our Casual Stock Replenishers pride themselves...             NaN   \n1  Our Casual Stock Replenishers pride themselves...             NaN   \n2  BRAND NEW FLAGSHIP STORE OPENING - SUNSHINE PLAZA             NaN   \n3  Bring it on - do you love the great outdoors a...             NaN   \n4  We are seeking highly articulate, enthusiastic...             NaN   \n\n   LowestSalary  HighestSalary JobType  \n0             0             30     NaN  \n1             0             30     NaN  \n2             0             30     NaN  \n3             0             30     NaN  \n4             0             30     NaN  ",
      "text/html": "<div>\n<style scoped>\n    .dataframe tbody tr th:only-of-type {\n        vertical-align: middle;\n    }\n\n    .dataframe tbody tr th {\n        vertical-align: top;\n    }\n\n    .dataframe thead th {\n        text-align: right;\n    }\n</style>\n<table border=\"1\" class=\"dataframe\">\n  <thead>\n    <tr style=\"text-align: right;\">\n      <th></th>\n      <th>Id</th>\n      <th>Title</th>\n      <th>Company</th>\n      <th>Date</th>\n      <th>Location</th>\n      <th>Area</th>\n      <th>Classification</th>\n      <th>SubClassification</th>\n      <th>Requirement</th>\n      <th>FullDescription</th>\n      <th>LowestSalary</th>\n      <th>HighestSalary</th>\n      <th>JobType</th>\n    </tr>\n  </thead>\n  <tbody>\n    <tr>\n      <th>0</th>\n      <td>37404348</td>\n      <td>Casual Stock Replenisher</td>\n      <td>Aldi Stores</td>\n      <td>2018-10-07T00:00:00.000Z</td>\n      <td>Sydney</td>\n      <td>North West &amp; Hills District</td>\n      <td>Retail &amp; Consumer Products</td>\n      <td>Retail Assistants</td>\n      <td>Our Casual Stock Replenishers pride themselves...</td>\n      <td>NaN</td>\n      <td>0</td>\n      <td>30</td>\n      <td>NaN</td>\n    </tr>\n    <tr>\n      <th>1</th>\n      <td>37404337</td>\n      <td>Casual Stock Replenisher</td>\n      <td>Aldi Stores</td>\n      <td>2018-10-07T00:00:00.000Z</td>\n      <td>Richmond &amp; Hawkesbury</td>\n      <td>NaN</td>\n      <td>Retail &amp; Consumer Products</td>\n      <td>Retail Assistants</td>\n      <td>Our Casual Stock Replenishers pride themselves...</td>\n      <td>NaN</td>\n      <td>0</td>\n      <td>30</td>\n      <td>NaN</td>\n    </tr>\n    <tr>\n      <th>2</th>\n      <td>37404356</td>\n      <td>RETAIL SALES SUPERSTARS and STYLISTS Wanted - ...</td>\n      <td>LB Creative Pty Ltd</td>\n      <td>2018-10-07T00:00:00.000Z</td>\n      <td>Brisbane</td>\n      <td>CBD &amp; Inner Suburbs</td>\n      <td>Retail &amp; Consumer Products</td>\n      <td>Retail Assistants</td>\n      <td>BRAND NEW FLAGSHIP STORE OPENING - SUNSHINE PLAZA</td>\n      <td>NaN</td>\n      <td>0</td>\n      <td>30</td>\n      <td>NaN</td>\n    </tr>\n    <tr>\n      <th>3</th>\n      <td>37404330</td>\n      <td>Team member - Belrose</td>\n      <td>Anaconda Group Pty Ltd</td>\n      <td>2018-10-07T00:00:00.000Z</td>\n      <td>Gosford &amp; Central Coast</td>\n      <td>NaN</td>\n      <td>Retail &amp; Consumer Products</td>\n      <td>Retail Assistants</td>\n      <td>Bring it on - do you love the great outdoors a...</td>\n      <td>NaN</td>\n      <td>0</td>\n      <td>30</td>\n      <td>NaN</td>\n    </tr>\n    <tr>\n      <th>4</th>\n      <td>37404308</td>\n      <td>Business Banking Contact Centre Specialist, Ni...</td>\n      <td>Commonwealth Bank - Business &amp; Private Banking</td>\n      <td>2018-10-07T00:00:00.000Z</td>\n      <td>Sydney</td>\n      <td>Ryde &amp; Macquarie Park</td>\n      <td>Call Centre &amp; Customer Service</td>\n      <td>Sales - Inbound</td>\n      <td>We are seeking highly articulate, enthusiastic...</td>\n      <td>NaN</td>\n      <td>0</td>\n      <td>30</td>\n      <td>NaN</td>\n    </tr>\n  </tbody>\n</table>\n</div>"
     },
     "execution_count": 1,
     "metadata": {},
     "output_type": "execute_result"
    }
   ],
   "source": [
    "#Loading Data\n",
    "\n",
    "%matplotlib inline\n",
    "import numpy as np\n",
    "import pandas as pd\n",
    "\n",
    "df = pd.read_csv(\"data_assignment.csv\")\n",
    "df.head()\n"
   ]
  },
  {
   "cell_type": "code",
   "execution_count": null,
   "outputs": [],
   "source": [
    "\n"
   ],
   "metadata": {
    "collapsed": false,
    "pycharm": {
     "name": "#%%\n"
    }
   }
  }
 ],
 "metadata": {
  "kernelspec": {
   "display_name": "Python 3",
   "language": "python",
   "name": "python3"
  },
  "language_info": {
   "codemirror_mode": {
    "name": "ipython",
    "version": 2
   },
   "file_extension": ".py",
   "mimetype": "text/x-python",
   "name": "python",
   "nbconvert_exporter": "python",
   "pygments_lexer": "ipython2",
   "version": "2.7.6"
  }
 },
 "nbformat": 4,
 "nbformat_minor": 0
}