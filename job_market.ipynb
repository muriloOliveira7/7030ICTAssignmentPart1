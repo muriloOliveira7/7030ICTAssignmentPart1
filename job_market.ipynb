{
 "cells": [
  {
   "cell_type": "code",
   "execution_count": 1,
   "metadata": {
    "collapsed": true
   },
   "outputs": [
    {
     "data": {
      "text/plain": "         Id                                              Title  \\\n0  37404348                           Casual Stock Replenisher   \n1  37404337                           Casual Stock Replenisher   \n2  37404356  RETAIL SALES SUPERSTARS and STYLISTS Wanted - ...   \n3  37404330                              Team member - Belrose   \n4  37404308  Business Banking Contact Centre Specialist, Ni...   \n\n                                          Company                      Date  \\\n0                                     Aldi Stores  2018-10-07T00:00:00.000Z   \n1                                     Aldi Stores  2018-10-07T00:00:00.000Z   \n2                             LB Creative Pty Ltd  2018-10-07T00:00:00.000Z   \n3                          Anaconda Group Pty Ltd  2018-10-07T00:00:00.000Z   \n4  Commonwealth Bank - Business & Private Banking  2018-10-07T00:00:00.000Z   \n\n                  Location                         Area  \\\n0                   Sydney  North West & Hills District   \n1    Richmond & Hawkesbury                          NaN   \n2                 Brisbane          CBD & Inner Suburbs   \n3  Gosford & Central Coast                          NaN   \n4                   Sydney        Ryde & Macquarie Park   \n\n                   Classification  SubClassification  \\\n0      Retail & Consumer Products  Retail Assistants   \n1      Retail & Consumer Products  Retail Assistants   \n2      Retail & Consumer Products  Retail Assistants   \n3      Retail & Consumer Products  Retail Assistants   \n4  Call Centre & Customer Service    Sales - Inbound   \n\n                                         Requirement FullDescription  \\\n0  Our Casual Stock Replenishers pride themselves...             NaN   \n1  Our Casual Stock Replenishers pride themselves...             NaN   \n2  BRAND NEW FLAGSHIP STORE OPENING - SUNSHINE PLAZA             NaN   \n3  Bring it on - do you love the great outdoors a...             NaN   \n4  We are seeking highly articulate, enthusiastic...             NaN   \n\n   LowestSalary  HighestSalary JobType  \n0             0             30     NaN  \n1             0             30     NaN  \n2             0             30     NaN  \n3             0             30     NaN  \n4             0             30     NaN  ",
      "text/html": "<div>\n<style scoped>\n    .dataframe tbody tr th:only-of-type {\n        vertical-align: middle;\n    }\n\n    .dataframe tbody tr th {\n        vertical-align: top;\n    }\n\n    .dataframe thead th {\n        text-align: right;\n    }\n</style>\n<table border=\"1\" class=\"dataframe\">\n  <thead>\n    <tr style=\"text-align: right;\">\n      <th></th>\n      <th>Id</th>\n      <th>Title</th>\n      <th>Company</th>\n      <th>Date</th>\n      <th>Location</th>\n      <th>Area</th>\n      <th>Classification</th>\n      <th>SubClassification</th>\n      <th>Requirement</th>\n      <th>FullDescription</th>\n      <th>LowestSalary</th>\n      <th>HighestSalary</th>\n      <th>JobType</th>\n    </tr>\n  </thead>\n  <tbody>\n    <tr>\n      <th>0</th>\n      <td>37404348</td>\n      <td>Casual Stock Replenisher</td>\n      <td>Aldi Stores</td>\n      <td>2018-10-07T00:00:00.000Z</td>\n      <td>Sydney</td>\n      <td>North West &amp; Hills District</td>\n      <td>Retail &amp; Consumer Products</td>\n      <td>Retail Assistants</td>\n      <td>Our Casual Stock Replenishers pride themselves...</td>\n      <td>NaN</td>\n      <td>0</td>\n      <td>30</td>\n      <td>NaN</td>\n    </tr>\n    <tr>\n      <th>1</th>\n      <td>37404337</td>\n      <td>Casual Stock Replenisher</td>\n      <td>Aldi Stores</td>\n      <td>2018-10-07T00:00:00.000Z</td>\n      <td>Richmond &amp; Hawkesbury</td>\n      <td>NaN</td>\n      <td>Retail &amp; Consumer Products</td>\n      <td>Retail Assistants</td>\n      <td>Our Casual Stock Replenishers pride themselves...</td>\n      <td>NaN</td>\n      <td>0</td>\n      <td>30</td>\n      <td>NaN</td>\n    </tr>\n    <tr>\n      <th>2</th>\n      <td>37404356</td>\n      <td>RETAIL SALES SUPERSTARS and STYLISTS Wanted - ...</td>\n      <td>LB Creative Pty Ltd</td>\n      <td>2018-10-07T00:00:00.000Z</td>\n      <td>Brisbane</td>\n      <td>CBD &amp; Inner Suburbs</td>\n      <td>Retail &amp; Consumer Products</td>\n      <td>Retail Assistants</td>\n      <td>BRAND NEW FLAGSHIP STORE OPENING - SUNSHINE PLAZA</td>\n      <td>NaN</td>\n      <td>0</td>\n      <td>30</td>\n      <td>NaN</td>\n    </tr>\n    <tr>\n      <th>3</th>\n      <td>37404330</td>\n      <td>Team member - Belrose</td>\n      <td>Anaconda Group Pty Ltd</td>\n      <td>2018-10-07T00:00:00.000Z</td>\n      <td>Gosford &amp; Central Coast</td>\n      <td>NaN</td>\n      <td>Retail &amp; Consumer Products</td>\n      <td>Retail Assistants</td>\n      <td>Bring it on - do you love the great outdoors a...</td>\n      <td>NaN</td>\n      <td>0</td>\n      <td>30</td>\n      <td>NaN</td>\n    </tr>\n    <tr>\n      <th>4</th>\n      <td>37404308</td>\n      <td>Business Banking Contact Centre Specialist, Ni...</td>\n      <td>Commonwealth Bank - Business &amp; Private Banking</td>\n      <td>2018-10-07T00:00:00.000Z</td>\n      <td>Sydney</td>\n      <td>Ryde &amp; Macquarie Park</td>\n      <td>Call Centre &amp; Customer Service</td>\n      <td>Sales - Inbound</td>\n      <td>We are seeking highly articulate, enthusiastic...</td>\n      <td>NaN</td>\n      <td>0</td>\n      <td>30</td>\n      <td>NaN</td>\n    </tr>\n  </tbody>\n</table>\n</div>"
     },
     "execution_count": 1,
     "metadata": {},
     "output_type": "execute_result"
    }
   ],
   "source": [
    "#Loading Data\n",
    "\n",
    "%matplotlib inline\n",
    "import numpy as np\n",
    "import pandas as pd\n",
    "\n",
    "df = pd.read_csv(\"data_assignment.csv\")\n",
    "df.head()\n"
   ]
  },
  {
   "cell_type": "code",
   "execution_count": 2,
   "outputs": [
    {
     "data": {
      "text/plain": "149999"
     },
     "execution_count": 2,
     "metadata": {},
     "output_type": "execute_result"
    }
   ],
   "source": [
    "#How many records are there in the dataset?\n",
    "#Command returns the number of rows in the DataFrame\n",
    "\n",
    "len(df)"
   ],
   "metadata": {
    "collapsed": false,
    "pycharm": {
     "name": "#%%\n"
    }
   }
  },
  {
   "cell_type": "code",
   "execution_count": 8,
   "outputs": [
    {
     "data": {
      "text/plain": "             Id                                      Title  \\\n22645  37362027            Principal SharePoint Consultant   \n22746  37360134            Application Developer - IBM IIB   \n22747  37360123  Technical Consultant - Mainframe and ITSM   \n\n                                     Company                      Date  \\\n22645                             PBI Search  2018-10-01T00:00:00.000Z   \n22746                         Compas Pty Ltd  2018-10-01T00:00:00.000Z   \n22747  Sharp & Carter Digital and Technology  2018-10-01T00:00:00.000Z   \n\n        Location                               Area  \\\n22645     Sydney  CBD, Inner West & Eastern Suburbs   \n22746        ACT                                NaN   \n22747  Melbourne                                NaN   \n\n                               Classification       SubClassification  \\\n22645  Information & Communication Technology             Consultants   \n22746  Information & Communication Technology  Developers/Programmers   \n22747  Information & Communication Technology      Computer Operators   \n\n                                             Requirement  \\\n22645  Work as Principal Consultant, leading and deli...   \n22746  Compas is seeking an experienced Application D...   \n22747  We are looking for several contractors for a 6...   \n\n                                         FullDescription  LowestSalary  \\\n22645  <div>This award-winning Consultancy and MS Gol...           150   \n22746  Are you an <strong>Application Developer </str...           150   \n22747  <br>Technical Consultant &nbsp;- Mainframe &am...           150   \n\n       HighestSalary        JobType  \n22645            200      Full Time  \n22746            200  Contract/Temp  \n22747            200  Contract/Temp  ",
      "text/html": "<div>\n<style scoped>\n    .dataframe tbody tr th:only-of-type {\n        vertical-align: middle;\n    }\n\n    .dataframe tbody tr th {\n        vertical-align: top;\n    }\n\n    .dataframe thead th {\n        text-align: right;\n    }\n</style>\n<table border=\"1\" class=\"dataframe\">\n  <thead>\n    <tr style=\"text-align: right;\">\n      <th></th>\n      <th>Id</th>\n      <th>Title</th>\n      <th>Company</th>\n      <th>Date</th>\n      <th>Location</th>\n      <th>Area</th>\n      <th>Classification</th>\n      <th>SubClassification</th>\n      <th>Requirement</th>\n      <th>FullDescription</th>\n      <th>LowestSalary</th>\n      <th>HighestSalary</th>\n      <th>JobType</th>\n    </tr>\n  </thead>\n  <tbody>\n    <tr>\n      <th>22645</th>\n      <td>37362027</td>\n      <td>Principal SharePoint Consultant</td>\n      <td>PBI Search</td>\n      <td>2018-10-01T00:00:00.000Z</td>\n      <td>Sydney</td>\n      <td>CBD, Inner West &amp; Eastern Suburbs</td>\n      <td>Information &amp; Communication Technology</td>\n      <td>Consultants</td>\n      <td>Work as Principal Consultant, leading and deli...</td>\n      <td>&lt;div&gt;This award-winning Consultancy and MS Gol...</td>\n      <td>150</td>\n      <td>200</td>\n      <td>Full Time</td>\n    </tr>\n    <tr>\n      <th>22746</th>\n      <td>37360134</td>\n      <td>Application Developer - IBM IIB</td>\n      <td>Compas Pty Ltd</td>\n      <td>2018-10-01T00:00:00.000Z</td>\n      <td>ACT</td>\n      <td>NaN</td>\n      <td>Information &amp; Communication Technology</td>\n      <td>Developers/Programmers</td>\n      <td>Compas is seeking an experienced Application D...</td>\n      <td>Are you an &lt;strong&gt;Application Developer &lt;/str...</td>\n      <td>150</td>\n      <td>200</td>\n      <td>Contract/Temp</td>\n    </tr>\n    <tr>\n      <th>22747</th>\n      <td>37360123</td>\n      <td>Technical Consultant - Mainframe and ITSM</td>\n      <td>Sharp &amp; Carter Digital and Technology</td>\n      <td>2018-10-01T00:00:00.000Z</td>\n      <td>Melbourne</td>\n      <td>NaN</td>\n      <td>Information &amp; Communication Technology</td>\n      <td>Computer Operators</td>\n      <td>We are looking for several contractors for a 6...</td>\n      <td>&lt;br&gt;Technical Consultant &amp;nbsp;- Mainframe &amp;am...</td>\n      <td>150</td>\n      <td>200</td>\n      <td>Contract/Temp</td>\n    </tr>\n  </tbody>\n</table>\n</div>"
     },
     "execution_count": 8,
     "metadata": {},
     "output_type": "execute_result"
    }
   ],
   "source": [
    "#Sorting values by date and showing the first 3 entries\n",
    "df.sort_values(['Date']).head(3)"
   ],
   "metadata": {
    "collapsed": false,
    "pycharm": {
     "name": "#%%\n"
    }
   }
  },
  {
   "cell_type": "code",
   "execution_count": 9,
   "outputs": [
    {
     "data": {
      "text/plain": "              Id                                            Title  \\\n149348  37710158               Physiotherapist - Private Practice   \n149350  37710156  Big Data Analytics Engineer (Data Science Team)   \n149998  37709311                                Network Engineer    \n\n                          Company                      Date Location  \\\n149348                Ivory Group  2018-11-13T00:00:00.000Z   Sydney   \n149350  TRS - IT & Communications  2018-11-13T00:00:00.000Z   Sydney   \n149998     Robert Half Technology  2018-11-13T00:00:00.000Z    Perth   \n\n                                     Area  \\\n149348        North West & Hills District   \n149350  CBD, Inner West & Eastern Suburbs   \n149998       CBD, Inner & Western Suburbs   \n\n                                Classification  \\\n149348                    Healthcare & Medical   \n149350  Information & Communication Technology   \n149998  Information & Communication Technology   \n\n                         SubClassification  \\\n149348  Physiotherapy, OT & Rehabilitation   \n149350                         Consultants   \n149998               Engineering - Network   \n\n                                              Requirement  \\\n149348  Join an established private practice in Sydney...   \n149350  Huge Data Sets require a Data Scientist to per...   \n149998  Our client requires an experienced Network Eng...   \n\n                                          FullDescription  LowestSalary  \\\n149348  <p style=\"text-align:justify;\"><strong>ABOUT T...             0   \n149350  Our customer has access (hosts) some of the la...             0   \n149998  <ul>\\n          <li><strong>Permanent Position...             0   \n\n        HighestSalary    JobType  \n149348             30  Full Time  \n149350             30  Full Time  \n149998             30  Full Time  ",
      "text/html": "<div>\n<style scoped>\n    .dataframe tbody tr th:only-of-type {\n        vertical-align: middle;\n    }\n\n    .dataframe tbody tr th {\n        vertical-align: top;\n    }\n\n    .dataframe thead th {\n        text-align: right;\n    }\n</style>\n<table border=\"1\" class=\"dataframe\">\n  <thead>\n    <tr style=\"text-align: right;\">\n      <th></th>\n      <th>Id</th>\n      <th>Title</th>\n      <th>Company</th>\n      <th>Date</th>\n      <th>Location</th>\n      <th>Area</th>\n      <th>Classification</th>\n      <th>SubClassification</th>\n      <th>Requirement</th>\n      <th>FullDescription</th>\n      <th>LowestSalary</th>\n      <th>HighestSalary</th>\n      <th>JobType</th>\n    </tr>\n  </thead>\n  <tbody>\n    <tr>\n      <th>149348</th>\n      <td>37710158</td>\n      <td>Physiotherapist - Private Practice</td>\n      <td>Ivory Group</td>\n      <td>2018-11-13T00:00:00.000Z</td>\n      <td>Sydney</td>\n      <td>North West &amp; Hills District</td>\n      <td>Healthcare &amp; Medical</td>\n      <td>Physiotherapy, OT &amp; Rehabilitation</td>\n      <td>Join an established private practice in Sydney...</td>\n      <td>&lt;p style=\"text-align:justify;\"&gt;&lt;strong&gt;ABOUT T...</td>\n      <td>0</td>\n      <td>30</td>\n      <td>Full Time</td>\n    </tr>\n    <tr>\n      <th>149350</th>\n      <td>37710156</td>\n      <td>Big Data Analytics Engineer (Data Science Team)</td>\n      <td>TRS - IT &amp; Communications</td>\n      <td>2018-11-13T00:00:00.000Z</td>\n      <td>Sydney</td>\n      <td>CBD, Inner West &amp; Eastern Suburbs</td>\n      <td>Information &amp; Communication Technology</td>\n      <td>Consultants</td>\n      <td>Huge Data Sets require a Data Scientist to per...</td>\n      <td>Our customer has access (hosts) some of the la...</td>\n      <td>0</td>\n      <td>30</td>\n      <td>Full Time</td>\n    </tr>\n    <tr>\n      <th>149998</th>\n      <td>37709311</td>\n      <td>Network Engineer</td>\n      <td>Robert Half Technology</td>\n      <td>2018-11-13T00:00:00.000Z</td>\n      <td>Perth</td>\n      <td>CBD, Inner &amp; Western Suburbs</td>\n      <td>Information &amp; Communication Technology</td>\n      <td>Engineering - Network</td>\n      <td>Our client requires an experienced Network Eng...</td>\n      <td>&lt;ul&gt;\\n          &lt;li&gt;&lt;strong&gt;Permanent Position...</td>\n      <td>0</td>\n      <td>30</td>\n      <td>Full Time</td>\n    </tr>\n  </tbody>\n</table>\n</div>"
     },
     "execution_count": 9,
     "metadata": {},
     "output_type": "execute_result"
    }
   ],
   "source": [
    "#Sorting values by date and showing the last 3 entries\n",
    "df.sort_values(['Date']).tail(3)\n",
    "\n",
    "#First entry on 01/10/2018 and last on 13/11/2018"
   ],
   "metadata": {
    "collapsed": false,
    "pycharm": {
     "name": "#%%\n"
    }
   }
  },
  {
   "cell_type": "code",
   "execution_count": 10,
   "outputs": [
    {
     "data": {
      "text/plain": "44"
     },
     "execution_count": 10,
     "metadata": {},
     "output_type": "execute_result"
    }
   ],
   "source": [
    "#Command returns the number of unique entries on the Date columns\n",
    "df['Date'].nunique()\n"
   ],
   "metadata": {
    "collapsed": false,
    "pycharm": {
     "name": "#%%\n"
    }
   }
  },
  {
   "cell_type": "code",
   "execution_count": 11,
   "outputs": [
    {
     "data": {
      "text/plain": "65"
     },
     "execution_count": 11,
     "metadata": {},
     "output_type": "execute_result"
    }
   ],
   "source": [
    "#Command returns the number of unique entries on the Location columns\n",
    "df['Location'].nunique()"
   ],
   "metadata": {
    "collapsed": false,
    "pycharm": {
     "name": "#%%\n"
    }
   }
  },
  {
   "cell_type": "code",
   "execution_count": null,
   "outputs": [],
   "source": [],
   "metadata": {
    "collapsed": false,
    "pycharm": {
     "name": "#%%\n"
    }
   }
  }
 ],
 "metadata": {
  "kernelspec": {
   "display_name": "Python 3",
   "language": "python",
   "name": "python3"
  },
  "language_info": {
   "codemirror_mode": {
    "name": "ipython",
    "version": 2
   },
   "file_extension": ".py",
   "mimetype": "text/x-python",
   "name": "python",
   "nbconvert_exporter": "python",
   "pygments_lexer": "ipython2",
   "version": "2.7.6"
  }
 },
 "nbformat": 4,
 "nbformat_minor": 0
}