{
 "cells": [
  {
   "cell_type": "code",
   "execution_count": 71,
   "metadata": {
    "collapsed": true
   },
   "outputs": [
    {
     "data": {
      "text/plain": "         Id                                              Title  \\\n0  37404348                           Casual Stock Replenisher   \n1  37404337                           Casual Stock Replenisher   \n2  37404356  RETAIL SALES SUPERSTARS and STYLISTS Wanted - ...   \n3  37404330                              Team member - Belrose   \n4  37404308  Business Banking Contact Centre Specialist, Ni...   \n\n                                          Company                      Date  \\\n0                                     Aldi Stores  2018-10-07T00:00:00.000Z   \n1                                     Aldi Stores  2018-10-07T00:00:00.000Z   \n2                             LB Creative Pty Ltd  2018-10-07T00:00:00.000Z   \n3                          Anaconda Group Pty Ltd  2018-10-07T00:00:00.000Z   \n4  Commonwealth Bank - Business & Private Banking  2018-10-07T00:00:00.000Z   \n\n                  Location                         Area  \\\n0                   Sydney  North West & Hills District   \n1    Richmond & Hawkesbury                          NaN   \n2                 Brisbane          CBD & Inner Suburbs   \n3  Gosford & Central Coast                          NaN   \n4                   Sydney        Ryde & Macquarie Park   \n\n                   Classification  SubClassification  \\\n0      Retail & Consumer Products  Retail Assistants   \n1      Retail & Consumer Products  Retail Assistants   \n2      Retail & Consumer Products  Retail Assistants   \n3      Retail & Consumer Products  Retail Assistants   \n4  Call Centre & Customer Service    Sales - Inbound   \n\n                                         Requirement FullDescription  \\\n0  Our Casual Stock Replenishers pride themselves...             NaN   \n1  Our Casual Stock Replenishers pride themselves...             NaN   \n2  BRAND NEW FLAGSHIP STORE OPENING - SUNSHINE PLAZA             NaN   \n3  Bring it on - do you love the great outdoors a...             NaN   \n4  We are seeking highly articulate, enthusiastic...             NaN   \n\n   LowestSalary  HighestSalary JobType  \n0             0             30     NaN  \n1             0             30     NaN  \n2             0             30     NaN  \n3             0             30     NaN  \n4             0             30     NaN  ",
      "text/html": "<div>\n<style scoped>\n    .dataframe tbody tr th:only-of-type {\n        vertical-align: middle;\n    }\n\n    .dataframe tbody tr th {\n        vertical-align: top;\n    }\n\n    .dataframe thead th {\n        text-align: right;\n    }\n</style>\n<table border=\"1\" class=\"dataframe\">\n  <thead>\n    <tr style=\"text-align: right;\">\n      <th></th>\n      <th>Id</th>\n      <th>Title</th>\n      <th>Company</th>\n      <th>Date</th>\n      <th>Location</th>\n      <th>Area</th>\n      <th>Classification</th>\n      <th>SubClassification</th>\n      <th>Requirement</th>\n      <th>FullDescription</th>\n      <th>LowestSalary</th>\n      <th>HighestSalary</th>\n      <th>JobType</th>\n    </tr>\n  </thead>\n  <tbody>\n    <tr>\n      <th>0</th>\n      <td>37404348</td>\n      <td>Casual Stock Replenisher</td>\n      <td>Aldi Stores</td>\n      <td>2018-10-07T00:00:00.000Z</td>\n      <td>Sydney</td>\n      <td>North West &amp; Hills District</td>\n      <td>Retail &amp; Consumer Products</td>\n      <td>Retail Assistants</td>\n      <td>Our Casual Stock Replenishers pride themselves...</td>\n      <td>NaN</td>\n      <td>0</td>\n      <td>30</td>\n      <td>NaN</td>\n    </tr>\n    <tr>\n      <th>1</th>\n      <td>37404337</td>\n      <td>Casual Stock Replenisher</td>\n      <td>Aldi Stores</td>\n      <td>2018-10-07T00:00:00.000Z</td>\n      <td>Richmond &amp; Hawkesbury</td>\n      <td>NaN</td>\n      <td>Retail &amp; Consumer Products</td>\n      <td>Retail Assistants</td>\n      <td>Our Casual Stock Replenishers pride themselves...</td>\n      <td>NaN</td>\n      <td>0</td>\n      <td>30</td>\n      <td>NaN</td>\n    </tr>\n    <tr>\n      <th>2</th>\n      <td>37404356</td>\n      <td>RETAIL SALES SUPERSTARS and STYLISTS Wanted - ...</td>\n      <td>LB Creative Pty Ltd</td>\n      <td>2018-10-07T00:00:00.000Z</td>\n      <td>Brisbane</td>\n      <td>CBD &amp; Inner Suburbs</td>\n      <td>Retail &amp; Consumer Products</td>\n      <td>Retail Assistants</td>\n      <td>BRAND NEW FLAGSHIP STORE OPENING - SUNSHINE PLAZA</td>\n      <td>NaN</td>\n      <td>0</td>\n      <td>30</td>\n      <td>NaN</td>\n    </tr>\n    <tr>\n      <th>3</th>\n      <td>37404330</td>\n      <td>Team member - Belrose</td>\n      <td>Anaconda Group Pty Ltd</td>\n      <td>2018-10-07T00:00:00.000Z</td>\n      <td>Gosford &amp; Central Coast</td>\n      <td>NaN</td>\n      <td>Retail &amp; Consumer Products</td>\n      <td>Retail Assistants</td>\n      <td>Bring it on - do you love the great outdoors a...</td>\n      <td>NaN</td>\n      <td>0</td>\n      <td>30</td>\n      <td>NaN</td>\n    </tr>\n    <tr>\n      <th>4</th>\n      <td>37404308</td>\n      <td>Business Banking Contact Centre Specialist, Ni...</td>\n      <td>Commonwealth Bank - Business &amp; Private Banking</td>\n      <td>2018-10-07T00:00:00.000Z</td>\n      <td>Sydney</td>\n      <td>Ryde &amp; Macquarie Park</td>\n      <td>Call Centre &amp; Customer Service</td>\n      <td>Sales - Inbound</td>\n      <td>We are seeking highly articulate, enthusiastic...</td>\n      <td>NaN</td>\n      <td>0</td>\n      <td>30</td>\n      <td>NaN</td>\n    </tr>\n  </tbody>\n</table>\n</div>"
     },
     "execution_count": 71,
     "metadata": {},
     "output_type": "execute_result"
    }
   ],
   "source": [
    "#Loading Data\n",
    "\n",
    "%matplotlib inline\n",
    "import numpy as np\n",
    "import pandas as pd\n",
    "\n",
    "df = pd.read_csv(\"data_assignment.csv\")\n",
    "df.head()\n"
   ]
  },
  {
   "cell_type": "code",
   "execution_count": 72,
   "outputs": [
    {
     "data": {
      "text/plain": "149999"
     },
     "execution_count": 72,
     "metadata": {},
     "output_type": "execute_result"
    }
   ],
   "source": [
    "#How many records are there in the dataset?\n",
    "#Command returns the number of rows in the DataFrame\n",
    "\n",
    "len(df)"
   ],
   "metadata": {
    "collapsed": false,
    "pycharm": {
     "name": "#%%\n"
    }
   }
  },
  {
   "cell_type": "code",
   "execution_count": 73,
   "outputs": [
    {
     "data": {
      "text/plain": "             Id                                      Title  \\\n22645  37362027            Principal SharePoint Consultant   \n22746  37360134            Application Developer - IBM IIB   \n22747  37360123  Technical Consultant - Mainframe and ITSM   \n\n                                     Company                      Date  \\\n22645                             PBI Search  2018-10-01T00:00:00.000Z   \n22746                         Compas Pty Ltd  2018-10-01T00:00:00.000Z   \n22747  Sharp & Carter Digital and Technology  2018-10-01T00:00:00.000Z   \n\n        Location                               Area  \\\n22645     Sydney  CBD, Inner West & Eastern Suburbs   \n22746        ACT                                NaN   \n22747  Melbourne                                NaN   \n\n                               Classification       SubClassification  \\\n22645  Information & Communication Technology             Consultants   \n22746  Information & Communication Technology  Developers/Programmers   \n22747  Information & Communication Technology      Computer Operators   \n\n                                             Requirement  \\\n22645  Work as Principal Consultant, leading and deli...   \n22746  Compas is seeking an experienced Application D...   \n22747  We are looking for several contractors for a 6...   \n\n                                         FullDescription  LowestSalary  \\\n22645  <div>This award-winning Consultancy and MS Gol...           150   \n22746  Are you an <strong>Application Developer </str...           150   \n22747  <br>Technical Consultant &nbsp;- Mainframe &am...           150   \n\n       HighestSalary        JobType  \n22645            200      Full Time  \n22746            200  Contract/Temp  \n22747            200  Contract/Temp  ",
      "text/html": "<div>\n<style scoped>\n    .dataframe tbody tr th:only-of-type {\n        vertical-align: middle;\n    }\n\n    .dataframe tbody tr th {\n        vertical-align: top;\n    }\n\n    .dataframe thead th {\n        text-align: right;\n    }\n</style>\n<table border=\"1\" class=\"dataframe\">\n  <thead>\n    <tr style=\"text-align: right;\">\n      <th></th>\n      <th>Id</th>\n      <th>Title</th>\n      <th>Company</th>\n      <th>Date</th>\n      <th>Location</th>\n      <th>Area</th>\n      <th>Classification</th>\n      <th>SubClassification</th>\n      <th>Requirement</th>\n      <th>FullDescription</th>\n      <th>LowestSalary</th>\n      <th>HighestSalary</th>\n      <th>JobType</th>\n    </tr>\n  </thead>\n  <tbody>\n    <tr>\n      <th>22645</th>\n      <td>37362027</td>\n      <td>Principal SharePoint Consultant</td>\n      <td>PBI Search</td>\n      <td>2018-10-01T00:00:00.000Z</td>\n      <td>Sydney</td>\n      <td>CBD, Inner West &amp; Eastern Suburbs</td>\n      <td>Information &amp; Communication Technology</td>\n      <td>Consultants</td>\n      <td>Work as Principal Consultant, leading and deli...</td>\n      <td>&lt;div&gt;This award-winning Consultancy and MS Gol...</td>\n      <td>150</td>\n      <td>200</td>\n      <td>Full Time</td>\n    </tr>\n    <tr>\n      <th>22746</th>\n      <td>37360134</td>\n      <td>Application Developer - IBM IIB</td>\n      <td>Compas Pty Ltd</td>\n      <td>2018-10-01T00:00:00.000Z</td>\n      <td>ACT</td>\n      <td>NaN</td>\n      <td>Information &amp; Communication Technology</td>\n      <td>Developers/Programmers</td>\n      <td>Compas is seeking an experienced Application D...</td>\n      <td>Are you an &lt;strong&gt;Application Developer &lt;/str...</td>\n      <td>150</td>\n      <td>200</td>\n      <td>Contract/Temp</td>\n    </tr>\n    <tr>\n      <th>22747</th>\n      <td>37360123</td>\n      <td>Technical Consultant - Mainframe and ITSM</td>\n      <td>Sharp &amp; Carter Digital and Technology</td>\n      <td>2018-10-01T00:00:00.000Z</td>\n      <td>Melbourne</td>\n      <td>NaN</td>\n      <td>Information &amp; Communication Technology</td>\n      <td>Computer Operators</td>\n      <td>We are looking for several contractors for a 6...</td>\n      <td>&lt;br&gt;Technical Consultant &amp;nbsp;- Mainframe &amp;am...</td>\n      <td>150</td>\n      <td>200</td>\n      <td>Contract/Temp</td>\n    </tr>\n  </tbody>\n</table>\n</div>"
     },
     "execution_count": 73,
     "metadata": {},
     "output_type": "execute_result"
    }
   ],
   "source": [
    "#Sorting values by date and showing the first 3 entries\n",
    "df.sort_values(['Date']).head(3)"
   ],
   "metadata": {
    "collapsed": false,
    "pycharm": {
     "name": "#%%\n"
    }
   }
  },
  {
   "cell_type": "code",
   "execution_count": 74,
   "outputs": [
    {
     "data": {
      "text/plain": "              Id                                            Title  \\\n149348  37710158               Physiotherapist - Private Practice   \n149350  37710156  Big Data Analytics Engineer (Data Science Team)   \n149998  37709311                                Network Engineer    \n\n                          Company                      Date Location  \\\n149348                Ivory Group  2018-11-13T00:00:00.000Z   Sydney   \n149350  TRS - IT & Communications  2018-11-13T00:00:00.000Z   Sydney   \n149998     Robert Half Technology  2018-11-13T00:00:00.000Z    Perth   \n\n                                     Area  \\\n149348        North West & Hills District   \n149350  CBD, Inner West & Eastern Suburbs   \n149998       CBD, Inner & Western Suburbs   \n\n                                Classification  \\\n149348                    Healthcare & Medical   \n149350  Information & Communication Technology   \n149998  Information & Communication Technology   \n\n                         SubClassification  \\\n149348  Physiotherapy, OT & Rehabilitation   \n149350                         Consultants   \n149998               Engineering - Network   \n\n                                              Requirement  \\\n149348  Join an established private practice in Sydney...   \n149350  Huge Data Sets require a Data Scientist to per...   \n149998  Our client requires an experienced Network Eng...   \n\n                                          FullDescription  LowestSalary  \\\n149348  <p style=\"text-align:justify;\"><strong>ABOUT T...             0   \n149350  Our customer has access (hosts) some of the la...             0   \n149998  <ul>\\n          <li><strong>Permanent Position...             0   \n\n        HighestSalary    JobType  \n149348             30  Full Time  \n149350             30  Full Time  \n149998             30  Full Time  ",
      "text/html": "<div>\n<style scoped>\n    .dataframe tbody tr th:only-of-type {\n        vertical-align: middle;\n    }\n\n    .dataframe tbody tr th {\n        vertical-align: top;\n    }\n\n    .dataframe thead th {\n        text-align: right;\n    }\n</style>\n<table border=\"1\" class=\"dataframe\">\n  <thead>\n    <tr style=\"text-align: right;\">\n      <th></th>\n      <th>Id</th>\n      <th>Title</th>\n      <th>Company</th>\n      <th>Date</th>\n      <th>Location</th>\n      <th>Area</th>\n      <th>Classification</th>\n      <th>SubClassification</th>\n      <th>Requirement</th>\n      <th>FullDescription</th>\n      <th>LowestSalary</th>\n      <th>HighestSalary</th>\n      <th>JobType</th>\n    </tr>\n  </thead>\n  <tbody>\n    <tr>\n      <th>149348</th>\n      <td>37710158</td>\n      <td>Physiotherapist - Private Practice</td>\n      <td>Ivory Group</td>\n      <td>2018-11-13T00:00:00.000Z</td>\n      <td>Sydney</td>\n      <td>North West &amp; Hills District</td>\n      <td>Healthcare &amp; Medical</td>\n      <td>Physiotherapy, OT &amp; Rehabilitation</td>\n      <td>Join an established private practice in Sydney...</td>\n      <td>&lt;p style=\"text-align:justify;\"&gt;&lt;strong&gt;ABOUT T...</td>\n      <td>0</td>\n      <td>30</td>\n      <td>Full Time</td>\n    </tr>\n    <tr>\n      <th>149350</th>\n      <td>37710156</td>\n      <td>Big Data Analytics Engineer (Data Science Team)</td>\n      <td>TRS - IT &amp; Communications</td>\n      <td>2018-11-13T00:00:00.000Z</td>\n      <td>Sydney</td>\n      <td>CBD, Inner West &amp; Eastern Suburbs</td>\n      <td>Information &amp; Communication Technology</td>\n      <td>Consultants</td>\n      <td>Huge Data Sets require a Data Scientist to per...</td>\n      <td>Our customer has access (hosts) some of the la...</td>\n      <td>0</td>\n      <td>30</td>\n      <td>Full Time</td>\n    </tr>\n    <tr>\n      <th>149998</th>\n      <td>37709311</td>\n      <td>Network Engineer</td>\n      <td>Robert Half Technology</td>\n      <td>2018-11-13T00:00:00.000Z</td>\n      <td>Perth</td>\n      <td>CBD, Inner &amp; Western Suburbs</td>\n      <td>Information &amp; Communication Technology</td>\n      <td>Engineering - Network</td>\n      <td>Our client requires an experienced Network Eng...</td>\n      <td>&lt;ul&gt;\\n          &lt;li&gt;&lt;strong&gt;Permanent Position...</td>\n      <td>0</td>\n      <td>30</td>\n      <td>Full Time</td>\n    </tr>\n  </tbody>\n</table>\n</div>"
     },
     "execution_count": 74,
     "metadata": {},
     "output_type": "execute_result"
    }
   ],
   "source": [
    "#Sorting values by date and showing the last 3 entries\n",
    "df.sort_values(['Date']).tail(3)\n",
    "\n",
    "#First entry on 01/10/2018 and last on 13/11/2018"
   ],
   "metadata": {
    "collapsed": false,
    "pycharm": {
     "name": "#%%\n"
    }
   }
  },
  {
   "cell_type": "code",
   "execution_count": 75,
   "outputs": [
    {
     "data": {
      "text/plain": "44"
     },
     "execution_count": 75,
     "metadata": {},
     "output_type": "execute_result"
    }
   ],
   "source": [
    "#Command returns the number of unique entries on the Date columns\n",
    "df['Date'].nunique()\n"
   ],
   "metadata": {
    "collapsed": false,
    "pycharm": {
     "name": "#%%\n"
    }
   }
  },
  {
   "cell_type": "code",
   "execution_count": 76,
   "outputs": [
    {
     "data": {
      "text/plain": "65"
     },
     "execution_count": 76,
     "metadata": {},
     "output_type": "execute_result"
    }
   ],
   "source": [
    "#Command returns the number of unique entries on the Location columns\n",
    "df['Location'].nunique()"
   ],
   "metadata": {
    "collapsed": false,
    "pycharm": {
     "name": "#%%\n"
    }
   }
  },
  {
   "cell_type": "code",
   "execution_count": 77,
   "outputs": [
    {
     "data": {
      "text/plain": "Id                   149999\nTitle                149999\nCompany              144237\nDate                 149999\nLocation             149999\nArea                  93496\nClassification       149999\nSubClassification    149999\nRequirement          149999\nFullDescription      146717\nLowestSalary         149999\nHighestSalary        149999\nJobType              146766\ndtype: int64"
     },
     "execution_count": 77,
     "metadata": {},
     "output_type": "execute_result"
    }
   ],
   "source": [
    "#Command returns the total rows for each column\n",
    "df.count()"
   ],
   "metadata": {
    "collapsed": false,
    "pycharm": {
     "name": "#%%\n"
    }
   }
  },
  {
   "cell_type": "code",
   "execution_count": 78,
   "outputs": [
    {
     "data": {
      "text/plain": "Sydney                                  46357\nMelbourne                               35315\nBrisbane                                16538\nPerth                                    9913\nAdelaide                                 4998\n                                        ...  \nCoober Pedy & Outback SA                   78\nTumut, Snowy & Monaro                      69\nSomerset & Lockyer                         56\nFleurieu Peninsula & Kangaroo Island       53\nCentral & South East TAS                   36\nName: Location, Length: 65, dtype: int64"
     },
     "execution_count": 78,
     "metadata": {},
     "output_type": "execute_result"
    }
   ],
   "source": [
    "#Command returns the total rows for each Location in the dataset\n",
    "df['Location'].value_counts()"
   ],
   "metadata": {
    "collapsed": false,
    "pycharm": {
     "name": "#%%\n"
    }
   }
  },
  {
   "cell_type": "code",
   "execution_count": 79,
   "outputs": [
    {
     "data": {
      "text/plain": "Information & Communication Technology    16661\nTrades & Services                         14125\nHealthcare & Medical                      12515\nHospitality & Tourism                     11818\nManufacturing, Transport & Logistics       9608\nAdministration & Office Support            7636\nAccounting                                 7075\nEducation & Training                       7033\nRetail & Consumer Products                 6496\nSales                                      6281\nConstruction                               6254\nGovernment & Defence                       5926\nEngineering                                4812\nMining, Resources & Energy                 4679\nCommunity Services & Development           3528\nBanking & Financial Services               3481\nHuman Resources & Recruitment              3233\nCall Centre & Customer Service             3127\nLegal                                      3071\nMarketing & Communications                 3052\nReal Estate & Property                     2729\nDesign & Architecture                      1379\nInsurance & Superannuation                 1144\nConsulting & Strategy                       905\nSport & Recreation                          750\nScience & Technology                        696\nFarming, Animals & Conservation             683\nAdvertising, Arts & Media                   644\nCEO & General Management                    585\nSelf Employment                              73\nName: Classification, dtype: int64"
     },
     "execution_count": 79,
     "metadata": {},
     "output_type": "execute_result"
    }
   ],
   "source": [
    "#Command returns the total rows for each sector in the dataset\n",
    "df['Classification'].value_counts()"
   ],
   "metadata": {
    "collapsed": false,
    "pycharm": {
     "name": "#%%\n"
    }
   }
  },
  {
   "cell_type": "code",
   "execution_count": 80,
   "outputs": [
    {
     "data": {
      "text/plain": "Environmental, Earth & Geosciences                152\nLaboratory & Technical Services                   128\nMathematics, Statistics & Information Sciences    102\nQuality Assurance & Control                        67\nOther                                              66\nBiological & Biomedical Sciences                   65\nChemistry & Physics                                40\nFood Technology & Safety                           32\nBiotechnology & Genetics                           17\nMaterials Sciences                                 14\nModelling & Simulation                             13\nName: SubClassification, dtype: int64"
     },
     "execution_count": 80,
     "metadata": {},
     "output_type": "execute_result"
    }
   ],
   "source": [
    "#Command returns the total rows for each sub-sector inside the Science & Technology sector in the dataset\n",
    "sciencedf = df[(df['Classification']==\"Science & Technology\")]\n",
    "sciencedf['SubClassification'].value_counts()"
   ],
   "metadata": {
    "collapsed": false,
    "pycharm": {
     "name": "#%%\n"
    }
   }
  },
  {
   "cell_type": "code",
   "execution_count": 81,
   "outputs": [
    {
     "data": {
      "text/plain": "11"
     },
     "execution_count": 81,
     "metadata": {},
     "output_type": "execute_result"
    }
   ],
   "source": [
    "#Checking the total sub-sectors inside the Science & Technology sector\n",
    "sciencedf['SubClassification'].nunique()"
   ],
   "metadata": {
    "collapsed": false,
    "pycharm": {
     "name": "#%%\n"
    }
   }
  },
  {
   "cell_type": "code",
   "execution_count": 82,
   "outputs": [
    {
     "name": "stdout",
     "output_type": "stream",
     "text": [
      "LowestSalary  HighestSalary\n",
      "0             30               27606\n",
      "30            40               12441\n",
      "40            50               17708\n",
      "50            60               12559\n",
      "60            70               14108\n",
      "70            80               12932\n",
      "80            100              12582\n",
      "100           120              13062\n",
      "120           150              10651\n",
      "150           200              11738\n",
      "200           250               4612\n",
      "dtype: int64\n"
     ]
    }
   ],
   "source": [
    "#Listing the number of rows by LowestSalary and HighestSalary\n",
    "salary_count = df.groupby(['LowestSalary','HighestSalary']).size()\n",
    "print (salary_count)"
   ],
   "metadata": {
    "collapsed": false,
    "pycharm": {
     "name": "#%%\n"
    }
   }
  },
  {
   "cell_type": "code",
   "execution_count": 83,
   "outputs": [],
   "source": [
    "#Seting up and cleaning a new DataFrame\n",
    "df2 = pd.read_csv(\"data_assignment.csv\")\n",
    "del df2['Id']\n",
    "del df2['Title']\n",
    "del df2['Company']\n",
    "del df2['Date']\n",
    "del df2['Location']\n",
    "del df2['Area']\n",
    "del df2['SubClassification']\n",
    "del df2['FullDescription']\n",
    "del df2['Requirement']\n",
    "del df2['JobType']\n",
    "\n",
    "by_job = df2.groupby('Classification')"
   ],
   "metadata": {
    "collapsed": false,
    "pycharm": {
     "name": "#%%\n"
    }
   }
  },
  {
   "cell_type": "code",
   "execution_count": 84,
   "outputs": [
    {
     "data": {
      "text/plain": "                                        LowestSalary  HighestSalary\nClassification                                                     \nAccounting                                         0             30\nAdministration & Office Support                    0             30\nAdvertising, Arts & Media                          0             30\nBanking & Financial Services                       0             30\nCEO & General Management                           0             30\nCall Centre & Customer Service                     0             30\nCommunity Services & Development                   0             30\nConstruction                                       0             30\nConsulting & Strategy                              0             30\nDesign & Architecture                              0             30\nEducation & Training                               0             30\nEngineering                                        0             30\nFarming, Animals & Conservation                    0             30\nGovernment & Defence                               0             30\nHealthcare & Medical                               0             30\nHospitality & Tourism                              0             30\nHuman Resources & Recruitment                      0             30\nInformation & Communication Technology             0             30\nInsurance & Superannuation                         0             30\nLegal                                              0             30\nManufacturing, Transport & Logistics               0             30\nMarketing & Communications                         0             30\nMining, Resources & Energy                         0             30\nReal Estate & Property                             0             30\nRetail & Consumer Products                         0             30\nSales                                              0             30\nScience & Technology                               0             30\nSelf Employment                                    0             30\nSport & Recreation                                 0             30\nTrades & Services                                  0             30",
      "text/html": "<div>\n<style scoped>\n    .dataframe tbody tr th:only-of-type {\n        vertical-align: middle;\n    }\n\n    .dataframe tbody tr th {\n        vertical-align: top;\n    }\n\n    .dataframe thead th {\n        text-align: right;\n    }\n</style>\n<table border=\"1\" class=\"dataframe\">\n  <thead>\n    <tr style=\"text-align: right;\">\n      <th></th>\n      <th>LowestSalary</th>\n      <th>HighestSalary</th>\n    </tr>\n    <tr>\n      <th>Classification</th>\n      <th></th>\n      <th></th>\n    </tr>\n  </thead>\n  <tbody>\n    <tr>\n      <th>Accounting</th>\n      <td>0</td>\n      <td>30</td>\n    </tr>\n    <tr>\n      <th>Administration &amp; Office Support</th>\n      <td>0</td>\n      <td>30</td>\n    </tr>\n    <tr>\n      <th>Advertising, Arts &amp; Media</th>\n      <td>0</td>\n      <td>30</td>\n    </tr>\n    <tr>\n      <th>Banking &amp; Financial Services</th>\n      <td>0</td>\n      <td>30</td>\n    </tr>\n    <tr>\n      <th>CEO &amp; General Management</th>\n      <td>0</td>\n      <td>30</td>\n    </tr>\n    <tr>\n      <th>Call Centre &amp; Customer Service</th>\n      <td>0</td>\n      <td>30</td>\n    </tr>\n    <tr>\n      <th>Community Services &amp; Development</th>\n      <td>0</td>\n      <td>30</td>\n    </tr>\n    <tr>\n      <th>Construction</th>\n      <td>0</td>\n      <td>30</td>\n    </tr>\n    <tr>\n      <th>Consulting &amp; Strategy</th>\n      <td>0</td>\n      <td>30</td>\n    </tr>\n    <tr>\n      <th>Design &amp; Architecture</th>\n      <td>0</td>\n      <td>30</td>\n    </tr>\n    <tr>\n      <th>Education &amp; Training</th>\n      <td>0</td>\n      <td>30</td>\n    </tr>\n    <tr>\n      <th>Engineering</th>\n      <td>0</td>\n      <td>30</td>\n    </tr>\n    <tr>\n      <th>Farming, Animals &amp; Conservation</th>\n      <td>0</td>\n      <td>30</td>\n    </tr>\n    <tr>\n      <th>Government &amp; Defence</th>\n      <td>0</td>\n      <td>30</td>\n    </tr>\n    <tr>\n      <th>Healthcare &amp; Medical</th>\n      <td>0</td>\n      <td>30</td>\n    </tr>\n    <tr>\n      <th>Hospitality &amp; Tourism</th>\n      <td>0</td>\n      <td>30</td>\n    </tr>\n    <tr>\n      <th>Human Resources &amp; Recruitment</th>\n      <td>0</td>\n      <td>30</td>\n    </tr>\n    <tr>\n      <th>Information &amp; Communication Technology</th>\n      <td>0</td>\n      <td>30</td>\n    </tr>\n    <tr>\n      <th>Insurance &amp; Superannuation</th>\n      <td>0</td>\n      <td>30</td>\n    </tr>\n    <tr>\n      <th>Legal</th>\n      <td>0</td>\n      <td>30</td>\n    </tr>\n    <tr>\n      <th>Manufacturing, Transport &amp; Logistics</th>\n      <td>0</td>\n      <td>30</td>\n    </tr>\n    <tr>\n      <th>Marketing &amp; Communications</th>\n      <td>0</td>\n      <td>30</td>\n    </tr>\n    <tr>\n      <th>Mining, Resources &amp; Energy</th>\n      <td>0</td>\n      <td>30</td>\n    </tr>\n    <tr>\n      <th>Real Estate &amp; Property</th>\n      <td>0</td>\n      <td>30</td>\n    </tr>\n    <tr>\n      <th>Retail &amp; Consumer Products</th>\n      <td>0</td>\n      <td>30</td>\n    </tr>\n    <tr>\n      <th>Sales</th>\n      <td>0</td>\n      <td>30</td>\n    </tr>\n    <tr>\n      <th>Science &amp; Technology</th>\n      <td>0</td>\n      <td>30</td>\n    </tr>\n    <tr>\n      <th>Self Employment</th>\n      <td>0</td>\n      <td>30</td>\n    </tr>\n    <tr>\n      <th>Sport &amp; Recreation</th>\n      <td>0</td>\n      <td>30</td>\n    </tr>\n    <tr>\n      <th>Trades &amp; Services</th>\n      <td>0</td>\n      <td>30</td>\n    </tr>\n  </tbody>\n</table>\n</div>"
     },
     "execution_count": 84,
     "metadata": {},
     "output_type": "execute_result"
    }
   ],
   "source": [
    "#Listing the lowest value for the LowestSalary and HighestSalary by sector\n",
    "by_job.min()"
   ],
   "metadata": {
    "collapsed": false,
    "pycharm": {
     "name": "#%%\n"
    }
   }
  },
  {
   "cell_type": "code",
   "execution_count": 85,
   "outputs": [
    {
     "data": {
      "text/plain": "                                        LowestSalary  HighestSalary\nClassification                                                     \nAccounting                                       200            250\nAdministration & Office Support                  200            250\nAdvertising, Arts & Media                        200            250\nBanking & Financial Services                     200            250\nCEO & General Management                         200            250\nCall Centre & Customer Service                   200            250\nCommunity Services & Development                 200            250\nConstruction                                     200            250\nConsulting & Strategy                            200            250\nDesign & Architecture                            200            250\nEducation & Training                             200            250\nEngineering                                      200            250\nFarming, Animals & Conservation                  200            250\nGovernment & Defence                             200            250\nHealthcare & Medical                             200            250\nHospitality & Tourism                            200            250\nHuman Resources & Recruitment                    200            250\nInformation & Communication Technology           200            250\nInsurance & Superannuation                       200            250\nLegal                                            200            250\nManufacturing, Transport & Logistics             200            250\nMarketing & Communications                       200            250\nMining, Resources & Energy                       200            250\nReal Estate & Property                           200            250\nRetail & Consumer Products                       200            250\nSales                                            200            250\nScience & Technology                             200            250\nSelf Employment                                  200            250\nSport & Recreation                               200            250\nTrades & Services                                200            250",
      "text/html": "<div>\n<style scoped>\n    .dataframe tbody tr th:only-of-type {\n        vertical-align: middle;\n    }\n\n    .dataframe tbody tr th {\n        vertical-align: top;\n    }\n\n    .dataframe thead th {\n        text-align: right;\n    }\n</style>\n<table border=\"1\" class=\"dataframe\">\n  <thead>\n    <tr style=\"text-align: right;\">\n      <th></th>\n      <th>LowestSalary</th>\n      <th>HighestSalary</th>\n    </tr>\n    <tr>\n      <th>Classification</th>\n      <th></th>\n      <th></th>\n    </tr>\n  </thead>\n  <tbody>\n    <tr>\n      <th>Accounting</th>\n      <td>200</td>\n      <td>250</td>\n    </tr>\n    <tr>\n      <th>Administration &amp; Office Support</th>\n      <td>200</td>\n      <td>250</td>\n    </tr>\n    <tr>\n      <th>Advertising, Arts &amp; Media</th>\n      <td>200</td>\n      <td>250</td>\n    </tr>\n    <tr>\n      <th>Banking &amp; Financial Services</th>\n      <td>200</td>\n      <td>250</td>\n    </tr>\n    <tr>\n      <th>CEO &amp; General Management</th>\n      <td>200</td>\n      <td>250</td>\n    </tr>\n    <tr>\n      <th>Call Centre &amp; Customer Service</th>\n      <td>200</td>\n      <td>250</td>\n    </tr>\n    <tr>\n      <th>Community Services &amp; Development</th>\n      <td>200</td>\n      <td>250</td>\n    </tr>\n    <tr>\n      <th>Construction</th>\n      <td>200</td>\n      <td>250</td>\n    </tr>\n    <tr>\n      <th>Consulting &amp; Strategy</th>\n      <td>200</td>\n      <td>250</td>\n    </tr>\n    <tr>\n      <th>Design &amp; Architecture</th>\n      <td>200</td>\n      <td>250</td>\n    </tr>\n    <tr>\n      <th>Education &amp; Training</th>\n      <td>200</td>\n      <td>250</td>\n    </tr>\n    <tr>\n      <th>Engineering</th>\n      <td>200</td>\n      <td>250</td>\n    </tr>\n    <tr>\n      <th>Farming, Animals &amp; Conservation</th>\n      <td>200</td>\n      <td>250</td>\n    </tr>\n    <tr>\n      <th>Government &amp; Defence</th>\n      <td>200</td>\n      <td>250</td>\n    </tr>\n    <tr>\n      <th>Healthcare &amp; Medical</th>\n      <td>200</td>\n      <td>250</td>\n    </tr>\n    <tr>\n      <th>Hospitality &amp; Tourism</th>\n      <td>200</td>\n      <td>250</td>\n    </tr>\n    <tr>\n      <th>Human Resources &amp; Recruitment</th>\n      <td>200</td>\n      <td>250</td>\n    </tr>\n    <tr>\n      <th>Information &amp; Communication Technology</th>\n      <td>200</td>\n      <td>250</td>\n    </tr>\n    <tr>\n      <th>Insurance &amp; Superannuation</th>\n      <td>200</td>\n      <td>250</td>\n    </tr>\n    <tr>\n      <th>Legal</th>\n      <td>200</td>\n      <td>250</td>\n    </tr>\n    <tr>\n      <th>Manufacturing, Transport &amp; Logistics</th>\n      <td>200</td>\n      <td>250</td>\n    </tr>\n    <tr>\n      <th>Marketing &amp; Communications</th>\n      <td>200</td>\n      <td>250</td>\n    </tr>\n    <tr>\n      <th>Mining, Resources &amp; Energy</th>\n      <td>200</td>\n      <td>250</td>\n    </tr>\n    <tr>\n      <th>Real Estate &amp; Property</th>\n      <td>200</td>\n      <td>250</td>\n    </tr>\n    <tr>\n      <th>Retail &amp; Consumer Products</th>\n      <td>200</td>\n      <td>250</td>\n    </tr>\n    <tr>\n      <th>Sales</th>\n      <td>200</td>\n      <td>250</td>\n    </tr>\n    <tr>\n      <th>Science &amp; Technology</th>\n      <td>200</td>\n      <td>250</td>\n    </tr>\n    <tr>\n      <th>Self Employment</th>\n      <td>200</td>\n      <td>250</td>\n    </tr>\n    <tr>\n      <th>Sport &amp; Recreation</th>\n      <td>200</td>\n      <td>250</td>\n    </tr>\n    <tr>\n      <th>Trades &amp; Services</th>\n      <td>200</td>\n      <td>250</td>\n    </tr>\n  </tbody>\n</table>\n</div>"
     },
     "execution_count": 85,
     "metadata": {},
     "output_type": "execute_result"
    }
   ],
   "source": [
    "#Listing the highest value for the LowestSalary and HighestSalary by sector\n",
    "by_job.max()"
   ],
   "metadata": {
    "collapsed": false,
    "pycharm": {
     "name": "#%%\n"
    }
   }
  },
  {
   "cell_type": "code",
   "execution_count": 85,
   "outputs": [],
   "source": [],
   "metadata": {
    "collapsed": false,
    "pycharm": {
     "name": "#%%\n"
    }
   }
  }
 ],
 "metadata": {
  "kernelspec": {
   "display_name": "Python 3",
   "language": "python",
   "name": "python3"
  },
  "language_info": {
   "codemirror_mode": {
    "name": "ipython",
    "version": 2
   },
   "file_extension": ".py",
   "mimetype": "text/x-python",
   "name": "python",
   "nbconvert_exporter": "python",
   "pygments_lexer": "ipython2",
   "version": "2.7.6"
  }
 },
 "nbformat": 4,
 "nbformat_minor": 0
}