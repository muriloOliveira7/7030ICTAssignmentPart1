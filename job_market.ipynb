{
 "cells": [
  {
   "cell_type": "code",
   "execution_count": 1,
   "metadata": {},
   "outputs": [
    {
     "data": {
      "text/html": [
       "<div>\n",
       "<style scoped>\n",
       "    .dataframe tbody tr th:only-of-type {\n",
       "        vertical-align: middle;\n",
       "    }\n",
       "\n",
       "    .dataframe tbody tr th {\n",
       "        vertical-align: top;\n",
       "    }\n",
       "\n",
       "    .dataframe thead th {\n",
       "        text-align: right;\n",
       "    }\n",
       "</style>\n",
       "<table border=\"1\" class=\"dataframe\">\n",
       "  <thead>\n",
       "    <tr style=\"text-align: right;\">\n",
       "      <th></th>\n",
       "      <th>Id</th>\n",
       "      <th>Title</th>\n",
       "      <th>Company</th>\n",
       "      <th>Date</th>\n",
       "      <th>Location</th>\n",
       "      <th>Area</th>\n",
       "      <th>Classification</th>\n",
       "      <th>SubClassification</th>\n",
       "      <th>Requirement</th>\n",
       "      <th>FullDescription</th>\n",
       "      <th>LowestSalary</th>\n",
       "      <th>HighestSalary</th>\n",
       "      <th>JobType</th>\n",
       "    </tr>\n",
       "  </thead>\n",
       "  <tbody>\n",
       "    <tr>\n",
       "      <th>0</th>\n",
       "      <td>37404348</td>\n",
       "      <td>Casual Stock Replenisher</td>\n",
       "      <td>Aldi Stores</td>\n",
       "      <td>2018-10-07T00:00:00.000Z</td>\n",
       "      <td>Sydney</td>\n",
       "      <td>North West &amp; Hills District</td>\n",
       "      <td>Retail &amp; Consumer Products</td>\n",
       "      <td>Retail Assistants</td>\n",
       "      <td>Our Casual Stock Replenishers pride themselves...</td>\n",
       "      <td>NaN</td>\n",
       "      <td>0</td>\n",
       "      <td>30</td>\n",
       "      <td>NaN</td>\n",
       "    </tr>\n",
       "    <tr>\n",
       "      <th>1</th>\n",
       "      <td>37404337</td>\n",
       "      <td>Casual Stock Replenisher</td>\n",
       "      <td>Aldi Stores</td>\n",
       "      <td>2018-10-07T00:00:00.000Z</td>\n",
       "      <td>Richmond &amp; Hawkesbury</td>\n",
       "      <td>NaN</td>\n",
       "      <td>Retail &amp; Consumer Products</td>\n",
       "      <td>Retail Assistants</td>\n",
       "      <td>Our Casual Stock Replenishers pride themselves...</td>\n",
       "      <td>NaN</td>\n",
       "      <td>0</td>\n",
       "      <td>30</td>\n",
       "      <td>NaN</td>\n",
       "    </tr>\n",
       "    <tr>\n",
       "      <th>2</th>\n",
       "      <td>37404356</td>\n",
       "      <td>RETAIL SALES SUPERSTARS and STYLISTS Wanted - ...</td>\n",
       "      <td>LB Creative Pty Ltd</td>\n",
       "      <td>2018-10-07T00:00:00.000Z</td>\n",
       "      <td>Brisbane</td>\n",
       "      <td>CBD &amp; Inner Suburbs</td>\n",
       "      <td>Retail &amp; Consumer Products</td>\n",
       "      <td>Retail Assistants</td>\n",
       "      <td>BRAND NEW FLAGSHIP STORE OPENING - SUNSHINE PLAZA</td>\n",
       "      <td>NaN</td>\n",
       "      <td>0</td>\n",
       "      <td>30</td>\n",
       "      <td>NaN</td>\n",
       "    </tr>\n",
       "    <tr>\n",
       "      <th>3</th>\n",
       "      <td>37404330</td>\n",
       "      <td>Team member - Belrose</td>\n",
       "      <td>Anaconda Group Pty Ltd</td>\n",
       "      <td>2018-10-07T00:00:00.000Z</td>\n",
       "      <td>Gosford &amp; Central Coast</td>\n",
       "      <td>NaN</td>\n",
       "      <td>Retail &amp; Consumer Products</td>\n",
       "      <td>Retail Assistants</td>\n",
       "      <td>Bring it on - do you love the great outdoors a...</td>\n",
       "      <td>NaN</td>\n",
       "      <td>0</td>\n",
       "      <td>30</td>\n",
       "      <td>NaN</td>\n",
       "    </tr>\n",
       "    <tr>\n",
       "      <th>4</th>\n",
       "      <td>37404308</td>\n",
       "      <td>Business Banking Contact Centre Specialist, Ni...</td>\n",
       "      <td>Commonwealth Bank - Business &amp; Private Banking</td>\n",
       "      <td>2018-10-07T00:00:00.000Z</td>\n",
       "      <td>Sydney</td>\n",
       "      <td>Ryde &amp; Macquarie Park</td>\n",
       "      <td>Call Centre &amp; Customer Service</td>\n",
       "      <td>Sales - Inbound</td>\n",
       "      <td>We are seeking highly articulate, enthusiastic...</td>\n",
       "      <td>NaN</td>\n",
       "      <td>0</td>\n",
       "      <td>30</td>\n",
       "      <td>NaN</td>\n",
       "    </tr>\n",
       "  </tbody>\n",
       "</table>\n",
       "</div>"
      ],
      "text/plain": [
       "         Id                                              Title  \\\n",
       "0  37404348                           Casual Stock Replenisher   \n",
       "1  37404337                           Casual Stock Replenisher   \n",
       "2  37404356  RETAIL SALES SUPERSTARS and STYLISTS Wanted - ...   \n",
       "3  37404330                              Team member - Belrose   \n",
       "4  37404308  Business Banking Contact Centre Specialist, Ni...   \n",
       "\n",
       "                                          Company                      Date  \\\n",
       "0                                     Aldi Stores  2018-10-07T00:00:00.000Z   \n",
       "1                                     Aldi Stores  2018-10-07T00:00:00.000Z   \n",
       "2                             LB Creative Pty Ltd  2018-10-07T00:00:00.000Z   \n",
       "3                          Anaconda Group Pty Ltd  2018-10-07T00:00:00.000Z   \n",
       "4  Commonwealth Bank - Business & Private Banking  2018-10-07T00:00:00.000Z   \n",
       "\n",
       "                  Location                         Area  \\\n",
       "0                   Sydney  North West & Hills District   \n",
       "1    Richmond & Hawkesbury                          NaN   \n",
       "2                 Brisbane          CBD & Inner Suburbs   \n",
       "3  Gosford & Central Coast                          NaN   \n",
       "4                   Sydney        Ryde & Macquarie Park   \n",
       "\n",
       "                   Classification  SubClassification  \\\n",
       "0      Retail & Consumer Products  Retail Assistants   \n",
       "1      Retail & Consumer Products  Retail Assistants   \n",
       "2      Retail & Consumer Products  Retail Assistants   \n",
       "3      Retail & Consumer Products  Retail Assistants   \n",
       "4  Call Centre & Customer Service    Sales - Inbound   \n",
       "\n",
       "                                         Requirement FullDescription  \\\n",
       "0  Our Casual Stock Replenishers pride themselves...             NaN   \n",
       "1  Our Casual Stock Replenishers pride themselves...             NaN   \n",
       "2  BRAND NEW FLAGSHIP STORE OPENING - SUNSHINE PLAZA             NaN   \n",
       "3  Bring it on - do you love the great outdoors a...             NaN   \n",
       "4  We are seeking highly articulate, enthusiastic...             NaN   \n",
       "\n",
       "   LowestSalary  HighestSalary JobType  \n",
       "0             0             30     NaN  \n",
       "1             0             30     NaN  \n",
       "2             0             30     NaN  \n",
       "3             0             30     NaN  \n",
       "4             0             30     NaN  "
      ]
     },
     "execution_count": 1,
     "metadata": {},
     "output_type": "execute_result"
    }
   ],
   "source": [
    "#Loading Data\n",
    "\n",
    "%matplotlib inline\n",
    "import numpy as np\n",
    "import pandas as pd\n",
    "\n",
    "df = pd.read_csv(\"data_assignment.csv\")\n",
    "df.head()\n"
   ]
  },
  {
   "cell_type": "code",
   "execution_count": 2,
   "metadata": {
    "collapsed": false,
    "jupyter": {
     "outputs_hidden": false
    },
    "pycharm": {
     "name": "#%%\n"
    }
   },
   "outputs": [
    {
     "data": {
      "text/plain": [
       "149999"
      ]
     },
     "execution_count": 2,
     "metadata": {},
     "output_type": "execute_result"
    }
   ],
   "source": [
    "#How many records are there in the dataset?\n",
    "#Command returns the number of rows in the DataFrame\n",
    "\n",
    "len(df)"
   ]
  },
  {
   "cell_type": "code",
   "execution_count": 3,
   "metadata": {
    "collapsed": false,
    "jupyter": {
     "outputs_hidden": false
    },
    "pycharm": {
     "name": "#%%\n"
    }
   },
   "outputs": [
    {
     "data": {
      "text/html": [
       "<div>\n",
       "<style scoped>\n",
       "    .dataframe tbody tr th:only-of-type {\n",
       "        vertical-align: middle;\n",
       "    }\n",
       "\n",
       "    .dataframe tbody tr th {\n",
       "        vertical-align: top;\n",
       "    }\n",
       "\n",
       "    .dataframe thead th {\n",
       "        text-align: right;\n",
       "    }\n",
       "</style>\n",
       "<table border=\"1\" class=\"dataframe\">\n",
       "  <thead>\n",
       "    <tr style=\"text-align: right;\">\n",
       "      <th></th>\n",
       "      <th>Id</th>\n",
       "      <th>Title</th>\n",
       "      <th>Company</th>\n",
       "      <th>Date</th>\n",
       "      <th>Location</th>\n",
       "      <th>Area</th>\n",
       "      <th>Classification</th>\n",
       "      <th>SubClassification</th>\n",
       "      <th>Requirement</th>\n",
       "      <th>FullDescription</th>\n",
       "      <th>LowestSalary</th>\n",
       "      <th>HighestSalary</th>\n",
       "      <th>JobType</th>\n",
       "    </tr>\n",
       "  </thead>\n",
       "  <tbody>\n",
       "    <tr>\n",
       "      <th>22645</th>\n",
       "      <td>37362027</td>\n",
       "      <td>Principal SharePoint Consultant</td>\n",
       "      <td>PBI Search</td>\n",
       "      <td>2018-10-01T00:00:00.000Z</td>\n",
       "      <td>Sydney</td>\n",
       "      <td>CBD, Inner West &amp; Eastern Suburbs</td>\n",
       "      <td>Information &amp; Communication Technology</td>\n",
       "      <td>Consultants</td>\n",
       "      <td>Work as Principal Consultant, leading and deli...</td>\n",
       "      <td>&lt;div&gt;This award-winning Consultancy and MS Gol...</td>\n",
       "      <td>150</td>\n",
       "      <td>200</td>\n",
       "      <td>Full Time</td>\n",
       "    </tr>\n",
       "    <tr>\n",
       "      <th>22746</th>\n",
       "      <td>37360134</td>\n",
       "      <td>Application Developer - IBM IIB</td>\n",
       "      <td>Compas Pty Ltd</td>\n",
       "      <td>2018-10-01T00:00:00.000Z</td>\n",
       "      <td>ACT</td>\n",
       "      <td>NaN</td>\n",
       "      <td>Information &amp; Communication Technology</td>\n",
       "      <td>Developers/Programmers</td>\n",
       "      <td>Compas is seeking an experienced Application D...</td>\n",
       "      <td>Are you an &lt;strong&gt;Application Developer &lt;/str...</td>\n",
       "      <td>150</td>\n",
       "      <td>200</td>\n",
       "      <td>Contract/Temp</td>\n",
       "    </tr>\n",
       "    <tr>\n",
       "      <th>22747</th>\n",
       "      <td>37360123</td>\n",
       "      <td>Technical Consultant - Mainframe and ITSM</td>\n",
       "      <td>Sharp &amp; Carter Digital and Technology</td>\n",
       "      <td>2018-10-01T00:00:00.000Z</td>\n",
       "      <td>Melbourne</td>\n",
       "      <td>NaN</td>\n",
       "      <td>Information &amp; Communication Technology</td>\n",
       "      <td>Computer Operators</td>\n",
       "      <td>We are looking for several contractors for a 6...</td>\n",
       "      <td>&lt;br&gt;Technical Consultant &amp;nbsp;- Mainframe &amp;am...</td>\n",
       "      <td>150</td>\n",
       "      <td>200</td>\n",
       "      <td>Contract/Temp</td>\n",
       "    </tr>\n",
       "  </tbody>\n",
       "</table>\n",
       "</div>"
      ],
      "text/plain": [
       "             Id                                      Title  \\\n",
       "22645  37362027            Principal SharePoint Consultant   \n",
       "22746  37360134            Application Developer - IBM IIB   \n",
       "22747  37360123  Technical Consultant - Mainframe and ITSM   \n",
       "\n",
       "                                     Company                      Date  \\\n",
       "22645                             PBI Search  2018-10-01T00:00:00.000Z   \n",
       "22746                         Compas Pty Ltd  2018-10-01T00:00:00.000Z   \n",
       "22747  Sharp & Carter Digital and Technology  2018-10-01T00:00:00.000Z   \n",
       "\n",
       "        Location                               Area  \\\n",
       "22645     Sydney  CBD, Inner West & Eastern Suburbs   \n",
       "22746        ACT                                NaN   \n",
       "22747  Melbourne                                NaN   \n",
       "\n",
       "                               Classification       SubClassification  \\\n",
       "22645  Information & Communication Technology             Consultants   \n",
       "22746  Information & Communication Technology  Developers/Programmers   \n",
       "22747  Information & Communication Technology      Computer Operators   \n",
       "\n",
       "                                             Requirement  \\\n",
       "22645  Work as Principal Consultant, leading and deli...   \n",
       "22746  Compas is seeking an experienced Application D...   \n",
       "22747  We are looking for several contractors for a 6...   \n",
       "\n",
       "                                         FullDescription  LowestSalary  \\\n",
       "22645  <div>This award-winning Consultancy and MS Gol...           150   \n",
       "22746  Are you an <strong>Application Developer </str...           150   \n",
       "22747  <br>Technical Consultant &nbsp;- Mainframe &am...           150   \n",
       "\n",
       "       HighestSalary        JobType  \n",
       "22645            200      Full Time  \n",
       "22746            200  Contract/Temp  \n",
       "22747            200  Contract/Temp  "
      ]
     },
     "execution_count": 3,
     "metadata": {},
     "output_type": "execute_result"
    }
   ],
   "source": [
    "#Sorting values by date and showing the first 3 entries\n",
    "df.sort_values(['Date']).head(3)"
   ]
  },
  {
   "cell_type": "code",
   "execution_count": 4,
   "metadata": {
    "collapsed": false,
    "jupyter": {
     "outputs_hidden": false
    },
    "pycharm": {
     "name": "#%%\n"
    }
   },
   "outputs": [
    {
     "data": {
      "text/html": [
       "<div>\n",
       "<style scoped>\n",
       "    .dataframe tbody tr th:only-of-type {\n",
       "        vertical-align: middle;\n",
       "    }\n",
       "\n",
       "    .dataframe tbody tr th {\n",
       "        vertical-align: top;\n",
       "    }\n",
       "\n",
       "    .dataframe thead th {\n",
       "        text-align: right;\n",
       "    }\n",
       "</style>\n",
       "<table border=\"1\" class=\"dataframe\">\n",
       "  <thead>\n",
       "    <tr style=\"text-align: right;\">\n",
       "      <th></th>\n",
       "      <th>Id</th>\n",
       "      <th>Title</th>\n",
       "      <th>Company</th>\n",
       "      <th>Date</th>\n",
       "      <th>Location</th>\n",
       "      <th>Area</th>\n",
       "      <th>Classification</th>\n",
       "      <th>SubClassification</th>\n",
       "      <th>Requirement</th>\n",
       "      <th>FullDescription</th>\n",
       "      <th>LowestSalary</th>\n",
       "      <th>HighestSalary</th>\n",
       "      <th>JobType</th>\n",
       "    </tr>\n",
       "  </thead>\n",
       "  <tbody>\n",
       "    <tr>\n",
       "      <th>149348</th>\n",
       "      <td>37710158</td>\n",
       "      <td>Physiotherapist - Private Practice</td>\n",
       "      <td>Ivory Group</td>\n",
       "      <td>2018-11-13T00:00:00.000Z</td>\n",
       "      <td>Sydney</td>\n",
       "      <td>North West &amp; Hills District</td>\n",
       "      <td>Healthcare &amp; Medical</td>\n",
       "      <td>Physiotherapy, OT &amp; Rehabilitation</td>\n",
       "      <td>Join an established private practice in Sydney...</td>\n",
       "      <td>&lt;p style=\"text-align:justify;\"&gt;&lt;strong&gt;ABOUT T...</td>\n",
       "      <td>0</td>\n",
       "      <td>30</td>\n",
       "      <td>Full Time</td>\n",
       "    </tr>\n",
       "    <tr>\n",
       "      <th>149350</th>\n",
       "      <td>37710156</td>\n",
       "      <td>Big Data Analytics Engineer (Data Science Team)</td>\n",
       "      <td>TRS - IT &amp; Communications</td>\n",
       "      <td>2018-11-13T00:00:00.000Z</td>\n",
       "      <td>Sydney</td>\n",
       "      <td>CBD, Inner West &amp; Eastern Suburbs</td>\n",
       "      <td>Information &amp; Communication Technology</td>\n",
       "      <td>Consultants</td>\n",
       "      <td>Huge Data Sets require a Data Scientist to per...</td>\n",
       "      <td>Our customer has access (hosts) some of the la...</td>\n",
       "      <td>0</td>\n",
       "      <td>30</td>\n",
       "      <td>Full Time</td>\n",
       "    </tr>\n",
       "    <tr>\n",
       "      <th>149998</th>\n",
       "      <td>37709311</td>\n",
       "      <td>Network Engineer</td>\n",
       "      <td>Robert Half Technology</td>\n",
       "      <td>2018-11-13T00:00:00.000Z</td>\n",
       "      <td>Perth</td>\n",
       "      <td>CBD, Inner &amp; Western Suburbs</td>\n",
       "      <td>Information &amp; Communication Technology</td>\n",
       "      <td>Engineering - Network</td>\n",
       "      <td>Our client requires an experienced Network Eng...</td>\n",
       "      <td>&lt;ul&gt;\\n          &lt;li&gt;&lt;strong&gt;Permanent Position...</td>\n",
       "      <td>0</td>\n",
       "      <td>30</td>\n",
       "      <td>Full Time</td>\n",
       "    </tr>\n",
       "  </tbody>\n",
       "</table>\n",
       "</div>"
      ],
      "text/plain": [
       "              Id                                            Title  \\\n",
       "149348  37710158               Physiotherapist - Private Practice   \n",
       "149350  37710156  Big Data Analytics Engineer (Data Science Team)   \n",
       "149998  37709311                                Network Engineer    \n",
       "\n",
       "                          Company                      Date Location  \\\n",
       "149348                Ivory Group  2018-11-13T00:00:00.000Z   Sydney   \n",
       "149350  TRS - IT & Communications  2018-11-13T00:00:00.000Z   Sydney   \n",
       "149998     Robert Half Technology  2018-11-13T00:00:00.000Z    Perth   \n",
       "\n",
       "                                     Area  \\\n",
       "149348        North West & Hills District   \n",
       "149350  CBD, Inner West & Eastern Suburbs   \n",
       "149998       CBD, Inner & Western Suburbs   \n",
       "\n",
       "                                Classification  \\\n",
       "149348                    Healthcare & Medical   \n",
       "149350  Information & Communication Technology   \n",
       "149998  Information & Communication Technology   \n",
       "\n",
       "                         SubClassification  \\\n",
       "149348  Physiotherapy, OT & Rehabilitation   \n",
       "149350                         Consultants   \n",
       "149998               Engineering - Network   \n",
       "\n",
       "                                              Requirement  \\\n",
       "149348  Join an established private practice in Sydney...   \n",
       "149350  Huge Data Sets require a Data Scientist to per...   \n",
       "149998  Our client requires an experienced Network Eng...   \n",
       "\n",
       "                                          FullDescription  LowestSalary  \\\n",
       "149348  <p style=\"text-align:justify;\"><strong>ABOUT T...             0   \n",
       "149350  Our customer has access (hosts) some of the la...             0   \n",
       "149998  <ul>\\n          <li><strong>Permanent Position...             0   \n",
       "\n",
       "        HighestSalary    JobType  \n",
       "149348             30  Full Time  \n",
       "149350             30  Full Time  \n",
       "149998             30  Full Time  "
      ]
     },
     "execution_count": 4,
     "metadata": {},
     "output_type": "execute_result"
    }
   ],
   "source": [
    "#Sorting values by date and showing the last 3 entries\n",
    "df.sort_values(['Date']).tail(3)\n",
    "\n",
    "#First entry on 01/10/2018 and last on 13/11/2018"
   ]
  },
  {
   "cell_type": "code",
   "execution_count": 5,
   "metadata": {
    "collapsed": false,
    "jupyter": {
     "outputs_hidden": false
    },
    "pycharm": {
     "name": "#%%\n"
    }
   },
   "outputs": [
    {
     "data": {
      "text/plain": [
       "44"
      ]
     },
     "execution_count": 5,
     "metadata": {},
     "output_type": "execute_result"
    }
   ],
   "source": [
    "#Command returns the number of unique entries on the Date columns\n",
    "df['Date'].nunique()\n"
   ]
  },
  {
   "cell_type": "code",
   "execution_count": 6,
   "metadata": {
    "collapsed": false,
    "jupyter": {
     "outputs_hidden": false
    },
    "pycharm": {
     "name": "#%%\n"
    }
   },
   "outputs": [
    {
     "data": {
      "text/plain": [
       "65"
      ]
     },
     "execution_count": 6,
     "metadata": {},
     "output_type": "execute_result"
    }
   ],
   "source": [
    "#Command returns the number of unique entries on the Location columns\n",
    "df['Location'].nunique()"
   ]
  },
  {
   "cell_type": "code",
   "execution_count": 7,
   "metadata": {
    "collapsed": false,
    "jupyter": {
     "outputs_hidden": false
    },
    "pycharm": {
     "name": "#%%\n"
    }
   },
   "outputs": [
    {
     "data": {
      "text/plain": [
       "Id                   149999\n",
       "Title                149999\n",
       "Company              144237\n",
       "Date                 149999\n",
       "Location             149999\n",
       "Area                  93496\n",
       "Classification       149999\n",
       "SubClassification    149999\n",
       "Requirement          149999\n",
       "FullDescription      146717\n",
       "LowestSalary         149999\n",
       "HighestSalary        149999\n",
       "JobType              146766\n",
       "dtype: int64"
      ]
     },
     "execution_count": 7,
     "metadata": {},
     "output_type": "execute_result"
    }
   ],
   "source": [
    "#Command returns the total rows for each column\n",
    "df.count()"
   ]
  },
  {
   "cell_type": "code",
   "execution_count": 8,
   "metadata": {
    "pycharm": {
     "name": "#%%\n"
    }
   },
   "outputs": [
    {
     "data": {
      "text/plain": [
       "Sydney                                  46357\n",
       "Melbourne                               35315\n",
       "Brisbane                                16538\n",
       "Perth                                    9913\n",
       "Adelaide                                 4998\n",
       "                                        ...  \n",
       "Yorke Peninsula & Clare Valley             78\n",
       "Tumut, Snowy & Monaro                      69\n",
       "Somerset & Lockyer                         56\n",
       "Fleurieu Peninsula & Kangaroo Island       53\n",
       "Central & South East TAS                   36\n",
       "Name: Location, Length: 65, dtype: int64"
      ]
     },
     "execution_count": 8,
     "metadata": {},
     "output_type": "execute_result"
    }
   ],
   "source": [
    "#Command returns the total rows for each Location in the dataset\n",
    "df['Location'].value_counts()"
   ]
  },
  {
   "cell_type": "code",
   "execution_count": 9,
   "metadata": {
    "collapsed": false,
    "jupyter": {
     "outputs_hidden": false
    },
    "pycharm": {
     "name": "#%%\n"
    }
   },
   "outputs": [
    {
     "data": {
      "text/plain": [
       "Information & Communication Technology    16661\n",
       "Trades & Services                         14125\n",
       "Healthcare & Medical                      12515\n",
       "Hospitality & Tourism                     11818\n",
       "Manufacturing, Transport & Logistics       9608\n",
       "Administration & Office Support            7636\n",
       "Accounting                                 7075\n",
       "Education & Training                       7033\n",
       "Retail & Consumer Products                 6496\n",
       "Sales                                      6281\n",
       "Construction                               6254\n",
       "Government & Defence                       5926\n",
       "Engineering                                4812\n",
       "Mining, Resources & Energy                 4679\n",
       "Community Services & Development           3528\n",
       "Banking & Financial Services               3481\n",
       "Human Resources & Recruitment              3233\n",
       "Call Centre & Customer Service             3127\n",
       "Legal                                      3071\n",
       "Marketing & Communications                 3052\n",
       "Real Estate & Property                     2729\n",
       "Design & Architecture                      1379\n",
       "Insurance & Superannuation                 1144\n",
       "Consulting & Strategy                       905\n",
       "Sport & Recreation                          750\n",
       "Science & Technology                        696\n",
       "Farming, Animals & Conservation             683\n",
       "Advertising, Arts & Media                   644\n",
       "CEO & General Management                    585\n",
       "Self Employment                              73\n",
       "Name: Classification, dtype: int64"
      ]
     },
     "execution_count": 9,
     "metadata": {},
     "output_type": "execute_result"
    }
   ],
   "source": [
    "#Command returns the total rows for each sector in the dataset\n",
    "df['Classification'].value_counts()"
   ]
  },
  {
   "cell_type": "code",
   "execution_count": 10,
   "metadata": {
    "collapsed": false,
    "jupyter": {
     "outputs_hidden": false
    },
    "pycharm": {
     "name": "#%%\n"
    }
   },
   "outputs": [
    {
     "data": {
      "text/plain": [
       "Environmental, Earth & Geosciences                152\n",
       "Laboratory & Technical Services                   128\n",
       "Mathematics, Statistics & Information Sciences    102\n",
       "Quality Assurance & Control                        67\n",
       "Other                                              66\n",
       "Biological & Biomedical Sciences                   65\n",
       "Chemistry & Physics                                40\n",
       "Food Technology & Safety                           32\n",
       "Biotechnology & Genetics                           17\n",
       "Materials Sciences                                 14\n",
       "Modelling & Simulation                             13\n",
       "Name: SubClassification, dtype: int64"
      ]
     },
     "execution_count": 10,
     "metadata": {},
     "output_type": "execute_result"
    }
   ],
   "source": [
    "#Command returns the total rows for each sub-sector inside the Science & Technology sector in the dataset\n",
    "sciencedf = df[(df['Classification']==\"Science & Technology\")]\n",
    "sciencedf['SubClassification'].value_counts()"
   ]
  },
  {
   "cell_type": "code",
   "execution_count": 11,
   "metadata": {
    "collapsed": false,
    "jupyter": {
     "outputs_hidden": false
    },
    "pycharm": {
     "name": "#%%\n"
    }
   },
   "outputs": [
    {
     "data": {
      "text/plain": [
       "11"
      ]
     },
     "execution_count": 11,
     "metadata": {},
     "output_type": "execute_result"
    }
   ],
   "source": [
    "#Checking the total sub-sectors inside the Science & Technology sector\n",
    "sciencedf['SubClassification'].nunique()"
   ]
  },
  {
   "cell_type": "code",
   "execution_count": 12,
   "metadata": {
    "collapsed": false,
    "jupyter": {
     "outputs_hidden": false
    },
    "pycharm": {
     "name": "#%%\n"
    }
   },
   "outputs": [
    {
     "name": "stdout",
     "output_type": "stream",
     "text": [
      "LowestSalary  HighestSalary\n",
      "0             30               27606\n",
      "30            40               12441\n",
      "40            50               17708\n",
      "50            60               12559\n",
      "60            70               14108\n",
      "70            80               12932\n",
      "80            100              12582\n",
      "100           120              13062\n",
      "120           150              10651\n",
      "150           200              11738\n",
      "200           250               4612\n",
      "dtype: int64\n"
     ]
    }
   ],
   "source": [
    "#Listing the number of rows by LowestSalary and HighestSalary\n",
    "salary_count = df.groupby(['LowestSalary','HighestSalary']).size()\n",
    "print (salary_count)"
   ]
  },
  {
   "cell_type": "code",
   "execution_count": 13,
   "metadata": {
    "collapsed": false,
    "jupyter": {
     "outputs_hidden": false
    },
    "pycharm": {
     "name": "#%%\n"
    }
   },
   "outputs": [],
   "source": [
    "#Seting up and cleaning a new DataFrame\n",
    "df2 = pd.read_csv(\"data_assignment.csv\")\n",
    "del df2['Id']\n",
    "del df2['Title']\n",
    "del df2['Company']\n",
    "del df2['Date']\n",
    "del df2['Location']\n",
    "del df2['Area']\n",
    "del df2['SubClassification']\n",
    "del df2['FullDescription']\n",
    "del df2['Requirement']\n",
    "del df2['Classification']\n",
    "del df2['HighestSalary']\n",
    "\n",
    "df4 = pd.read_csv(\"data_assignment.csv\")\n",
    "del df4['Id']\n",
    "del df4['Title']\n",
    "del df4['Company']\n",
    "del df4['Date']\n",
    "del df4['Location']\n",
    "del df4['Area']\n",
    "del df4['SubClassification']\n",
    "del df4['FullDescription']\n",
    "del df4['Requirement']\n",
    "del df4['Classification']\n",
    "del df4['LowestSalary']\n",
    "\n",
    "by_job = df2.groupby('JobType')\n",
    "by_job2 = df4.groupby('JobType')"
   ]
  },
  {
   "cell_type": "code",
   "execution_count": 14,
   "metadata": {},
   "outputs": [],
   "source": [
    "# ID column data cleaned\n",
    "df2 = pd.read_csv(\"data_assignment.csv\")"
   ]
  },
  {
   "cell_type": "code",
   "execution_count": 15,
   "metadata": {
    "collapsed": false,
    "jupyter": {
     "outputs_hidden": false
    },
    "pycharm": {
     "name": "#%%\n"
    }
   },
   "outputs": [
    {
     "data": {
      "text/html": [
       "<div>\n",
       "<style scoped>\n",
       "    .dataframe tbody tr th:only-of-type {\n",
       "        vertical-align: middle;\n",
       "    }\n",
       "\n",
       "    .dataframe tbody tr th {\n",
       "        vertical-align: top;\n",
       "    }\n",
       "\n",
       "    .dataframe thead th {\n",
       "        text-align: right;\n",
       "    }\n",
       "</style>\n",
       "<table border=\"1\" class=\"dataframe\">\n",
       "  <thead>\n",
       "    <tr style=\"text-align: right;\">\n",
       "      <th></th>\n",
       "      <th>LowestSalary</th>\n",
       "      <th>HighestSalary</th>\n",
       "    </tr>\n",
       "    <tr>\n",
       "      <th>JobType</th>\n",
       "      <th></th>\n",
       "      <th></th>\n",
       "    </tr>\n",
       "  </thead>\n",
       "  <tbody>\n",
       "    <tr>\n",
       "      <th>Casual/Vacation</th>\n",
       "      <td>0</td>\n",
       "      <td>250</td>\n",
       "    </tr>\n",
       "    <tr>\n",
       "      <th>Contract/Temp</th>\n",
       "      <td>0</td>\n",
       "      <td>250</td>\n",
       "    </tr>\n",
       "    <tr>\n",
       "      <th>Full Time</th>\n",
       "      <td>0</td>\n",
       "      <td>250</td>\n",
       "    </tr>\n",
       "    <tr>\n",
       "      <th>Part Time</th>\n",
       "      <td>0</td>\n",
       "      <td>250</td>\n",
       "    </tr>\n",
       "  </tbody>\n",
       "</table>\n",
       "</div>"
      ],
      "text/plain": [
       "                 LowestSalary  HighestSalary\n",
       "JobType                                     \n",
       "Casual/Vacation             0            250\n",
       "Contract/Temp               0            250\n",
       "Full Time                   0            250\n",
       "Part Time                   0            250"
      ]
     },
     "execution_count": 15,
     "metadata": {},
     "output_type": "execute_result"
    }
   ],
   "source": [
    "#Listing the lowest value of LowestSalary and the highest value of HighestSalary by Job Type\n",
    "lowest_values = by_job.min()\n",
    "highest_values = by_job2.max()\n",
    "pd.merge(lowest_values, highest_values, on='JobType')"
   ]
  },
  {
   "cell_type": "code",
   "execution_count": 16,
   "metadata": {
    "scrolled": true
   },
   "outputs": [
    {
     "data": {
      "text/html": [
       "<div>\n",
       "<style scoped>\n",
       "    .dataframe tbody tr th:only-of-type {\n",
       "        vertical-align: middle;\n",
       "    }\n",
       "\n",
       "    .dataframe tbody tr th {\n",
       "        vertical-align: top;\n",
       "    }\n",
       "\n",
       "    .dataframe thead th {\n",
       "        text-align: right;\n",
       "    }\n",
       "</style>\n",
       "<table border=\"1\" class=\"dataframe\">\n",
       "  <thead>\n",
       "    <tr style=\"text-align: right;\">\n",
       "      <th></th>\n",
       "      <th>LowestSalary</th>\n",
       "      <th>HighestSalary</th>\n",
       "      <th>AverageSalary</th>\n",
       "    </tr>\n",
       "    <tr>\n",
       "      <th>JobType</th>\n",
       "      <th></th>\n",
       "      <th></th>\n",
       "      <th></th>\n",
       "    </tr>\n",
       "  </thead>\n",
       "  <tbody>\n",
       "    <tr>\n",
       "      <th>Casual/Vacation</th>\n",
       "      <td>13496</td>\n",
       "      <td>13496</td>\n",
       "      <td>13496</td>\n",
       "    </tr>\n",
       "    <tr>\n",
       "      <th>Contract/Temp</th>\n",
       "      <td>26238</td>\n",
       "      <td>26238</td>\n",
       "      <td>26238</td>\n",
       "    </tr>\n",
       "    <tr>\n",
       "      <th>Full Time</th>\n",
       "      <td>96410</td>\n",
       "      <td>96410</td>\n",
       "      <td>96410</td>\n",
       "    </tr>\n",
       "    <tr>\n",
       "      <th>Part Time</th>\n",
       "      <td>10622</td>\n",
       "      <td>10622</td>\n",
       "      <td>10622</td>\n",
       "    </tr>\n",
       "  </tbody>\n",
       "</table>\n",
       "</div>"
      ],
      "text/plain": [
       "                 LowestSalary  HighestSalary  AverageSalary\n",
       "JobType                                                    \n",
       "Casual/Vacation         13496          13496          13496\n",
       "Contract/Temp           26238          26238          26238\n",
       "Full Time               96410          96410          96410\n",
       "Part Time               10622          10622          10622"
      ]
     },
     "execution_count": 16,
     "metadata": {},
     "output_type": "execute_result"
    }
   ],
   "source": [
    "# Part 1.2 - Normalise and Clean Data\n",
    "#######################################\n",
    "\n",
    "# Average Salary Field created\n",
    "%matplotlib inline\n",
    "import numpy as np\n",
    "import matplotlib.pyplot as plt\n",
    "import seaborn as sns\n",
    "import pandas as pd\n",
    "\n",
    "df2 = pd.read_csv(\"data_assignment.csv\")\n",
    "\n",
    "df2[\"AverageSalary\"] = (df2[\"LowestSalary\"] + df2[\"HighestSalary\"])/2 * 1000\n",
    "df_averagesalary = df2.groupby(\"JobType\").count()\n",
    "\n",
    "df_averagesalary[['LowestSalary', 'HighestSalary', 'AverageSalary']]"
   ]
  },
  {
   "cell_type": "code",
   "execution_count": 17,
   "metadata": {},
   "outputs": [
    {
     "data": {
      "text/html": [
       "<div>\n",
       "<style scoped>\n",
       "    .dataframe tbody tr th:only-of-type {\n",
       "        vertical-align: middle;\n",
       "    }\n",
       "\n",
       "    .dataframe tbody tr th {\n",
       "        vertical-align: top;\n",
       "    }\n",
       "\n",
       "    .dataframe thead th {\n",
       "        text-align: right;\n",
       "    }\n",
       "</style>\n",
       "<table border=\"1\" class=\"dataframe\">\n",
       "  <thead>\n",
       "    <tr style=\"text-align: right;\">\n",
       "      <th></th>\n",
       "      <th>Id</th>\n",
       "      <th>Title</th>\n",
       "      <th>Company</th>\n",
       "      <th>Date</th>\n",
       "      <th>Location</th>\n",
       "      <th>Area</th>\n",
       "      <th>Classification</th>\n",
       "      <th>SubClassification</th>\n",
       "      <th>Requirement</th>\n",
       "      <th>FullDescription</th>\n",
       "      <th>LowestSalary</th>\n",
       "      <th>HighestSalary</th>\n",
       "      <th>JobType</th>\n",
       "      <th>AverageSalary</th>\n",
       "    </tr>\n",
       "  </thead>\n",
       "  <tbody>\n",
       "    <tr>\n",
       "      <th>0</th>\n",
       "      <td>37404348</td>\n",
       "      <td>Casual Stock Replenisher</td>\n",
       "      <td>Aldi Stores</td>\n",
       "      <td>2018-10-07T00:00:00.000Z</td>\n",
       "      <td>Sydney</td>\n",
       "      <td>North West &amp; Hills District</td>\n",
       "      <td>Retail &amp; Consumer Products</td>\n",
       "      <td>Retail Assistants</td>\n",
       "      <td>Our Casual Stock Replenishers pride themselves...</td>\n",
       "      <td>NaN</td>\n",
       "      <td>0</td>\n",
       "      <td>30</td>\n",
       "      <td>NaN</td>\n",
       "      <td>15000.0</td>\n",
       "    </tr>\n",
       "    <tr>\n",
       "      <th>1</th>\n",
       "      <td>37404337</td>\n",
       "      <td>Casual Stock Replenisher</td>\n",
       "      <td>Aldi Stores</td>\n",
       "      <td>2018-10-07T00:00:00.000Z</td>\n",
       "      <td>Richmond &amp; Hawkesbury</td>\n",
       "      <td>NaN</td>\n",
       "      <td>Retail &amp; Consumer Products</td>\n",
       "      <td>Retail Assistants</td>\n",
       "      <td>Our Casual Stock Replenishers pride themselves...</td>\n",
       "      <td>NaN</td>\n",
       "      <td>0</td>\n",
       "      <td>30</td>\n",
       "      <td>NaN</td>\n",
       "      <td>15000.0</td>\n",
       "    </tr>\n",
       "    <tr>\n",
       "      <th>2</th>\n",
       "      <td>37404356</td>\n",
       "      <td>RETAIL SALES SUPERSTARS and STYLISTS Wanted - ...</td>\n",
       "      <td>LB Creative Pty Ltd</td>\n",
       "      <td>2018-10-07T00:00:00.000Z</td>\n",
       "      <td>Brisbane</td>\n",
       "      <td>CBD &amp; Inner Suburbs</td>\n",
       "      <td>Retail &amp; Consumer Products</td>\n",
       "      <td>Retail Assistants</td>\n",
       "      <td>BRAND NEW FLAGSHIP STORE OPENING - SUNSHINE PLAZA</td>\n",
       "      <td>NaN</td>\n",
       "      <td>0</td>\n",
       "      <td>30</td>\n",
       "      <td>NaN</td>\n",
       "      <td>15000.0</td>\n",
       "    </tr>\n",
       "    <tr>\n",
       "      <th>3</th>\n",
       "      <td>37404330</td>\n",
       "      <td>Team member - Belrose</td>\n",
       "      <td>Anaconda Group Pty Ltd</td>\n",
       "      <td>2018-10-07T00:00:00.000Z</td>\n",
       "      <td>Gosford &amp; Central Coast</td>\n",
       "      <td>NaN</td>\n",
       "      <td>Retail &amp; Consumer Products</td>\n",
       "      <td>Retail Assistants</td>\n",
       "      <td>Bring it on - do you love the great outdoors a...</td>\n",
       "      <td>NaN</td>\n",
       "      <td>0</td>\n",
       "      <td>30</td>\n",
       "      <td>NaN</td>\n",
       "      <td>15000.0</td>\n",
       "    </tr>\n",
       "    <tr>\n",
       "      <th>4</th>\n",
       "      <td>37404308</td>\n",
       "      <td>Business Banking Contact Centre Specialist, Ni...</td>\n",
       "      <td>Commonwealth Bank - Business &amp; Private Banking</td>\n",
       "      <td>2018-10-07T00:00:00.000Z</td>\n",
       "      <td>Sydney</td>\n",
       "      <td>Ryde &amp; Macquarie Park</td>\n",
       "      <td>Call Centre &amp; Customer Service</td>\n",
       "      <td>Sales - Inbound</td>\n",
       "      <td>We are seeking highly articulate, enthusiastic...</td>\n",
       "      <td>NaN</td>\n",
       "      <td>0</td>\n",
       "      <td>30</td>\n",
       "      <td>NaN</td>\n",
       "      <td>15000.0</td>\n",
       "    </tr>\n",
       "  </tbody>\n",
       "</table>\n",
       "</div>"
      ],
      "text/plain": [
       "         Id                                              Title  \\\n",
       "0  37404348                           Casual Stock Replenisher   \n",
       "1  37404337                           Casual Stock Replenisher   \n",
       "2  37404356  RETAIL SALES SUPERSTARS and STYLISTS Wanted - ...   \n",
       "3  37404330                              Team member - Belrose   \n",
       "4  37404308  Business Banking Contact Centre Specialist, Ni...   \n",
       "\n",
       "                                          Company                      Date  \\\n",
       "0                                     Aldi Stores  2018-10-07T00:00:00.000Z   \n",
       "1                                     Aldi Stores  2018-10-07T00:00:00.000Z   \n",
       "2                             LB Creative Pty Ltd  2018-10-07T00:00:00.000Z   \n",
       "3                          Anaconda Group Pty Ltd  2018-10-07T00:00:00.000Z   \n",
       "4  Commonwealth Bank - Business & Private Banking  2018-10-07T00:00:00.000Z   \n",
       "\n",
       "                  Location                         Area  \\\n",
       "0                   Sydney  North West & Hills District   \n",
       "1    Richmond & Hawkesbury                          NaN   \n",
       "2                 Brisbane          CBD & Inner Suburbs   \n",
       "3  Gosford & Central Coast                          NaN   \n",
       "4                   Sydney        Ryde & Macquarie Park   \n",
       "\n",
       "                   Classification  SubClassification  \\\n",
       "0      Retail & Consumer Products  Retail Assistants   \n",
       "1      Retail & Consumer Products  Retail Assistants   \n",
       "2      Retail & Consumer Products  Retail Assistants   \n",
       "3      Retail & Consumer Products  Retail Assistants   \n",
       "4  Call Centre & Customer Service    Sales - Inbound   \n",
       "\n",
       "                                         Requirement FullDescription  \\\n",
       "0  Our Casual Stock Replenishers pride themselves...             NaN   \n",
       "1  Our Casual Stock Replenishers pride themselves...             NaN   \n",
       "2  BRAND NEW FLAGSHIP STORE OPENING - SUNSHINE PLAZA             NaN   \n",
       "3  Bring it on - do you love the great outdoors a...             NaN   \n",
       "4  We are seeking highly articulate, enthusiastic...             NaN   \n",
       "\n",
       "   LowestSalary  HighestSalary JobType  AverageSalary  \n",
       "0             0             30     NaN        15000.0  \n",
       "1             0             30     NaN        15000.0  \n",
       "2             0             30     NaN        15000.0  \n",
       "3             0             30     NaN        15000.0  \n",
       "4             0             30     NaN        15000.0  "
      ]
     },
     "execution_count": 17,
     "metadata": {},
     "output_type": "execute_result"
    }
   ],
   "source": [
    "# Id column data cleaned\n",
    "df2[\"Id\"] = df2[\"Id\"].astype(str) \n",
    "df2[\"Id\"] = df2[\"Id\"].str.slice(0,8,1)\n",
    "\n",
    "df2.head()"
   ]
  },
  {
   "cell_type": "code",
   "execution_count": 18,
   "metadata": {},
   "outputs": [
    {
     "data": {
      "text/html": [
       "<div>\n",
       "<style scoped>\n",
       "    .dataframe tbody tr th:only-of-type {\n",
       "        vertical-align: middle;\n",
       "    }\n",
       "\n",
       "    .dataframe tbody tr th {\n",
       "        vertical-align: top;\n",
       "    }\n",
       "\n",
       "    .dataframe thead th {\n",
       "        text-align: right;\n",
       "    }\n",
       "</style>\n",
       "<table border=\"1\" class=\"dataframe\">\n",
       "  <thead>\n",
       "    <tr style=\"text-align: right;\">\n",
       "      <th></th>\n",
       "      <th>Id</th>\n",
       "      <th>Title</th>\n",
       "      <th>Company</th>\n",
       "      <th>Date</th>\n",
       "      <th>Location</th>\n",
       "      <th>Area</th>\n",
       "      <th>Classification</th>\n",
       "      <th>SubClassification</th>\n",
       "      <th>Requirement</th>\n",
       "      <th>FullDescription</th>\n",
       "      <th>LowestSalary</th>\n",
       "      <th>HighestSalary</th>\n",
       "      <th>JobType</th>\n",
       "      <th>AverageSalary</th>\n",
       "    </tr>\n",
       "  </thead>\n",
       "  <tbody>\n",
       "    <tr>\n",
       "      <th>0</th>\n",
       "      <td>37404348</td>\n",
       "      <td>Casual Stock Replenisher</td>\n",
       "      <td>Aldi Stores</td>\n",
       "      <td>2018-10-07</td>\n",
       "      <td>Sydney</td>\n",
       "      <td>North West &amp; Hills District</td>\n",
       "      <td>Retail &amp; Consumer Products</td>\n",
       "      <td>Retail Assistants</td>\n",
       "      <td>Our Casual Stock Replenishers pride themselves...</td>\n",
       "      <td>NaN</td>\n",
       "      <td>0</td>\n",
       "      <td>30</td>\n",
       "      <td>NaN</td>\n",
       "      <td>15000.0</td>\n",
       "    </tr>\n",
       "    <tr>\n",
       "      <th>1</th>\n",
       "      <td>37404337</td>\n",
       "      <td>Casual Stock Replenisher</td>\n",
       "      <td>Aldi Stores</td>\n",
       "      <td>2018-10-07</td>\n",
       "      <td>Richmond &amp; Hawkesbury</td>\n",
       "      <td>NaN</td>\n",
       "      <td>Retail &amp; Consumer Products</td>\n",
       "      <td>Retail Assistants</td>\n",
       "      <td>Our Casual Stock Replenishers pride themselves...</td>\n",
       "      <td>NaN</td>\n",
       "      <td>0</td>\n",
       "      <td>30</td>\n",
       "      <td>NaN</td>\n",
       "      <td>15000.0</td>\n",
       "    </tr>\n",
       "    <tr>\n",
       "      <th>2</th>\n",
       "      <td>37404356</td>\n",
       "      <td>RETAIL SALES SUPERSTARS and STYLISTS Wanted - ...</td>\n",
       "      <td>LB Creative Pty Ltd</td>\n",
       "      <td>2018-10-07</td>\n",
       "      <td>Brisbane</td>\n",
       "      <td>CBD &amp; Inner Suburbs</td>\n",
       "      <td>Retail &amp; Consumer Products</td>\n",
       "      <td>Retail Assistants</td>\n",
       "      <td>BRAND NEW FLAGSHIP STORE OPENING - SUNSHINE PLAZA</td>\n",
       "      <td>NaN</td>\n",
       "      <td>0</td>\n",
       "      <td>30</td>\n",
       "      <td>NaN</td>\n",
       "      <td>15000.0</td>\n",
       "    </tr>\n",
       "    <tr>\n",
       "      <th>3</th>\n",
       "      <td>37404330</td>\n",
       "      <td>Team member - Belrose</td>\n",
       "      <td>Anaconda Group Pty Ltd</td>\n",
       "      <td>2018-10-07</td>\n",
       "      <td>Gosford &amp; Central Coast</td>\n",
       "      <td>NaN</td>\n",
       "      <td>Retail &amp; Consumer Products</td>\n",
       "      <td>Retail Assistants</td>\n",
       "      <td>Bring it on - do you love the great outdoors a...</td>\n",
       "      <td>NaN</td>\n",
       "      <td>0</td>\n",
       "      <td>30</td>\n",
       "      <td>NaN</td>\n",
       "      <td>15000.0</td>\n",
       "    </tr>\n",
       "    <tr>\n",
       "      <th>4</th>\n",
       "      <td>37404308</td>\n",
       "      <td>Business Banking Contact Centre Specialist, Ni...</td>\n",
       "      <td>Commonwealth Bank - Business &amp; Private Banking</td>\n",
       "      <td>2018-10-07</td>\n",
       "      <td>Sydney</td>\n",
       "      <td>Ryde &amp; Macquarie Park</td>\n",
       "      <td>Call Centre &amp; Customer Service</td>\n",
       "      <td>Sales - Inbound</td>\n",
       "      <td>We are seeking highly articulate, enthusiastic...</td>\n",
       "      <td>NaN</td>\n",
       "      <td>0</td>\n",
       "      <td>30</td>\n",
       "      <td>NaN</td>\n",
       "      <td>15000.0</td>\n",
       "    </tr>\n",
       "  </tbody>\n",
       "</table>\n",
       "</div>"
      ],
      "text/plain": [
       "         Id                                              Title  \\\n",
       "0  37404348                           Casual Stock Replenisher   \n",
       "1  37404337                           Casual Stock Replenisher   \n",
       "2  37404356  RETAIL SALES SUPERSTARS and STYLISTS Wanted - ...   \n",
       "3  37404330                              Team member - Belrose   \n",
       "4  37404308  Business Banking Contact Centre Specialist, Ni...   \n",
       "\n",
       "                                          Company        Date  \\\n",
       "0                                     Aldi Stores  2018-10-07   \n",
       "1                                     Aldi Stores  2018-10-07   \n",
       "2                             LB Creative Pty Ltd  2018-10-07   \n",
       "3                          Anaconda Group Pty Ltd  2018-10-07   \n",
       "4  Commonwealth Bank - Business & Private Banking  2018-10-07   \n",
       "\n",
       "                  Location                         Area  \\\n",
       "0                   Sydney  North West & Hills District   \n",
       "1    Richmond & Hawkesbury                          NaN   \n",
       "2                 Brisbane          CBD & Inner Suburbs   \n",
       "3  Gosford & Central Coast                          NaN   \n",
       "4                   Sydney        Ryde & Macquarie Park   \n",
       "\n",
       "                   Classification  SubClassification  \\\n",
       "0      Retail & Consumer Products  Retail Assistants   \n",
       "1      Retail & Consumer Products  Retail Assistants   \n",
       "2      Retail & Consumer Products  Retail Assistants   \n",
       "3      Retail & Consumer Products  Retail Assistants   \n",
       "4  Call Centre & Customer Service    Sales - Inbound   \n",
       "\n",
       "                                         Requirement FullDescription  \\\n",
       "0  Our Casual Stock Replenishers pride themselves...             NaN   \n",
       "1  Our Casual Stock Replenishers pride themselves...             NaN   \n",
       "2  BRAND NEW FLAGSHIP STORE OPENING - SUNSHINE PLAZA             NaN   \n",
       "3  Bring it on - do you love the great outdoors a...             NaN   \n",
       "4  We are seeking highly articulate, enthusiastic...             NaN   \n",
       "\n",
       "   LowestSalary  HighestSalary JobType  AverageSalary  \n",
       "0             0             30     NaN        15000.0  \n",
       "1             0             30     NaN        15000.0  \n",
       "2             0             30     NaN        15000.0  \n",
       "3             0             30     NaN        15000.0  \n",
       "4             0             30     NaN        15000.0  "
      ]
     },
     "execution_count": 18,
     "metadata": {},
     "output_type": "execute_result"
    }
   ],
   "source": [
    "# Date column data cleaned\n",
    "df2[\"Date\"] = df2[\"Date\"].replace(to_replace=r'T.*', value='', regex=True)\n",
    "\n",
    "df2.head()"
   ]
  },
  {
   "cell_type": "code",
   "execution_count": 19,
   "metadata": {},
   "outputs": [
    {
     "data": {
      "text/plain": [
       "Id                            int64\n",
       "Title                        object\n",
       "Company                      object\n",
       "Date                 datetime64[ns]\n",
       "Location                     object\n",
       "Area                         object\n",
       "Classification               object\n",
       "SubClassification            object\n",
       "Requirement                  object\n",
       "FullDescription              object\n",
       "LowestSalary                  int64\n",
       "HighestSalary                 int64\n",
       "JobType                      object\n",
       "AverageSalary               float64\n",
       "dtype: object"
      ]
     },
     "execution_count": 19,
     "metadata": {},
     "output_type": "execute_result"
    }
   ],
   "source": [
    "# Types of ID and Date changed\n",
    "\n",
    "df2[\"Id\"] = pd.to_numeric(df2[\"Id\"])\n",
    "df2[\"Date\"] = pd.to_datetime(df2[\"Date\"])\n",
    "\n",
    "df2.dtypes"
   ]
  },
  {
   "cell_type": "code",
   "execution_count": 20,
   "metadata": {},
   "outputs": [
    {
     "data": {
      "text/html": [
       "<div>\n",
       "<style scoped>\n",
       "    .dataframe tbody tr th:only-of-type {\n",
       "        vertical-align: middle;\n",
       "    }\n",
       "\n",
       "    .dataframe tbody tr th {\n",
       "        vertical-align: top;\n",
       "    }\n",
       "\n",
       "    .dataframe thead th {\n",
       "        text-align: right;\n",
       "    }\n",
       "</style>\n",
       "<table border=\"1\" class=\"dataframe\">\n",
       "  <thead>\n",
       "    <tr style=\"text-align: right;\">\n",
       "      <th></th>\n",
       "      <th>Id</th>\n",
       "      <th>Title</th>\n",
       "      <th>Company</th>\n",
       "      <th>Date</th>\n",
       "      <th>Location</th>\n",
       "      <th>Area</th>\n",
       "      <th>Classification</th>\n",
       "      <th>SubClassification</th>\n",
       "      <th>Requirement</th>\n",
       "      <th>FullDescription</th>\n",
       "      <th>LowestSalary</th>\n",
       "      <th>HighestSalary</th>\n",
       "      <th>JobType</th>\n",
       "      <th>AverageSalary</th>\n",
       "    </tr>\n",
       "  </thead>\n",
       "  <tbody>\n",
       "  </tbody>\n",
       "</table>\n",
       "</div>"
      ],
      "text/plain": [
       "Empty DataFrame\n",
       "Columns: [Id, Title, Company, Date, Location, Area, Classification, SubClassification, Requirement, FullDescription, LowestSalary, HighestSalary, JobType, AverageSalary]\n",
       "Index: []"
      ]
     },
     "execution_count": 20,
     "metadata": {},
     "output_type": "execute_result"
    }
   ],
   "source": [
    "df2[df2.duplicated(keep=False)]"
   ]
  },
  {
   "cell_type": "code",
   "execution_count": 21,
   "metadata": {},
   "outputs": [
    {
     "data": {
      "text/plain": [
       "Id                   0\n",
       "Title                0\n",
       "Company              0\n",
       "Date                 0\n",
       "Location             0\n",
       "Area                 0\n",
       "Classification       0\n",
       "SubClassification    0\n",
       "Requirement          0\n",
       "FullDescription      0\n",
       "LowestSalary         0\n",
       "HighestSalary        0\n",
       "JobType              0\n",
       "AverageSalary        0\n",
       "dtype: int64"
      ]
     },
     "execution_count": 21,
     "metadata": {},
     "output_type": "execute_result"
    }
   ],
   "source": [
    "# Duplicate Data Checking\n",
    "\n",
    "df2[df2.duplicated()].count()"
   ]
  },
  {
   "cell_type": "code",
   "execution_count": 22,
   "metadata": {},
   "outputs": [
    {
     "data": {
      "text/plain": [
       "Id                       0\n",
       "Title                    0\n",
       "Company               5762\n",
       "Date                     0\n",
       "Location                 0\n",
       "Area                 56503\n",
       "Classification           0\n",
       "SubClassification        0\n",
       "Requirement              0\n",
       "FullDescription       3282\n",
       "LowestSalary             0\n",
       "HighestSalary            0\n",
       "JobType               3233\n",
       "AverageSalary            0\n",
       "dtype: int64"
      ]
     },
     "execution_count": 22,
     "metadata": {},
     "output_type": "execute_result"
    }
   ],
   "source": [
    "df2.isnull().sum()"
   ]
  },
  {
   "cell_type": "code",
   "execution_count": 187,
   "metadata": {},
   "outputs": [
    {
     "data": {
      "image/png": "[encoded data removed]",
      "text/plain": [
       "<Figure size 648x504 with 1 Axes>"
      ]
     },
     "metadata": {
      "needs_background": "light"
     },
     "output_type": "display_data"
    }
   ],
   "source": [
    "# Task 1-2f\n",
    "# Check missing data and visualize them in a corresponding chart.*\n",
    "\n",
    "import matplotlib as mpl\n",
    "\n",
    "# Get all the fields, along with the count of their null/NaN values\n",
    "df_nullfields = df2.isnull().sum().to_frame(name=\"Count\")\n",
    "\n",
    "# Set the labels\n",
    "df_nullfields['Label'] = df_nullfields.index\n",
    "\n",
    "# For the colour, normalise the value of the Count column - gives a value between 0 and 1\n",
    "df_nullfields['Normalised'] = df_nullfields['Count'] / df_nullfields['Count'].max()\n",
    "\n",
    "# Create a color for each of the bars, by lightening the 'tab:orange' color in proportion to their value\n",
    "plotColors = {}\n",
    "for index, row in df_nullfields.iterrows():\n",
    "    plotColors[index] = sns.set_hls_values(color = mpl.colors.to_rgb('tab:orange'), h = None, l = ((1-row['Normalised']*.4)-0.2), s = None)\n",
    "\n",
    "# Plot the chart\n",
    "plt.figure(figsize=(9,7))\n",
    "barChart = sns.barplot(x='Count', y='Label', palette=plotColors, data=df_nullfields, dodge=False, zorder=2)\n",
    "\n",
    "# Plot the background color for the bars\n",
    "barChart2 = sns.barplot(x=60000, y='Label', color='aliceblue', data=df_nullfields, dodge=False, zorder=1)\n",
    "\n",
    "# Set the gridlines and ticks\n",
    "plt.xticks(np.arange(0, 60001, 10000.0))\n",
    "plt.grid(which='major', axis='x',zorder=0)\n",
    "\n",
    "# Draw the labels\n",
    "plt.title('Missing data in Dataset', {'fontsize': '20' })\n",
    "plt.xlabel('Amount of missing data')\n",
    "plt.ylabel('Attribute')\n",
    "plt.show()"
   ]
  },
  {
   "cell_type": "code",
   "execution_count": 25,
   "metadata": {
    "collapsed": false,
    "jupyter": {
     "outputs_hidden": false
    },
    "pycharm": {
     "name": "#%%\n"
    }
   },
   "outputs": [],
   "source": [
    "# PART 2 - Data Analysis and Interpretation\n",
    "###########################################\n",
    "\n",
    "%matplotlib inline\n",
    "\n",
    "import matplotlib.pyplot as plt\n",
    "import seaborn as sns\n",
    "\n",
    "# Set up and read a new DataFrame\n",
    "\n",
    "df3 = pd.read_csv(\"data_assignment.csv\")"
   ]
  },
  {
   "cell_type": "code",
   "execution_count": 28,
   "metadata": {},
   "outputs": [
    {
     "data": {
      "image/png": "[encoded data removed]",
      "text/plain": [
       "<Figure size 864x504 with 1 Axes>"
      ]
     },
     "metadata": {
      "needs_background": "light"
     },
     "output_type": "display_data"
    }
   ],
   "source": [
    "# Task 2-1\n",
    "# Get the salary ranges using “AverageSalary”, the total jobs of each range and display them in\n",
    "# the bar chart.\n",
    "\n",
    "# Calculate the average salary\n",
    "df3[\"AverageSalary\"] = (df3[\"LowestSalary\"] + df3[\"HighestSalary\"])/2 * 1000\n",
    "\n",
    "# Create a new dataframe grouping by the AverageSalary and sort it\n",
    "df_averagesalary = df3.groupby(\"AverageSalary\").count()\n",
    "df_averagesalary = df_averagesalary.sort_values(by=['AverageSalary'], ascending = True)\n",
    "\n",
    "# Set up the dataset for the chart\n",
    "df_averagesalary['Count'] = df_averagesalary[\"Id\"]\n",
    "df_averagesalary['Label'] = df_averagesalary.index\n",
    "df_averagesalary['Label'] = df_averagesalary['Label'].map('{:,.0f}'.format)\n",
    "\n",
    "# Start creating the chart\n",
    "plt.figure(figsize=(12,7))\n",
    "\n",
    "# Reset colors\n",
    "sns.set_color_codes()\n",
    "\n",
    "barChart = sns.barplot(x='Label', y='Id', color='b', data=df_averagesalary, dodge=False)\n",
    "barChart.set_xticklabels(\n",
    "    barChart.get_xticklabels(), \n",
    "    rotation=45, \n",
    "    horizontalalignment='right',\n",
    "    fontweight='light',\n",
    "    fontsize='small'\n",
    ")\n",
    "\n",
    "plt.title('job distribution by average salary', {'fontsize': '20' })\n",
    "plt.xlabel('')\n",
    "plt.ylabel('')\n",
    "plt.show()"
   ]
  },
  {
   "cell_type": "code",
   "execution_count": 29,
   "metadata": {},
   "outputs": [
    {
     "data": {
      "image/png": "[encoded data removed]",
      "text/plain": [
       "<Figure size 864x504 with 1 Axes>"
      ]
     },
     "metadata": {},
     "output_type": "display_data"
    }
   ],
   "source": [
    "# Task 2-2\n",
    "# Display the list of job types and the number of jobs of each type using pie chart.\n",
    "\n",
    "# Get the list of JobTypes with the count for each\n",
    "df_jobtypes = df3.groupby(\"JobType\").count()\n",
    "\n",
    "# Set up the data to plot\n",
    "df_jobtypes['Count'] = df_jobtypes[\"Id\"]\n",
    "df_jobtypes['Label'] = df_jobtypes.index\n",
    "df_jobtypes = df_jobtypes.sort_values(by=['Count'], ascending = False)\n",
    "\n",
    "# Set up the canvas\n",
    "plt.figure(figsize=(12,7))\n",
    "ax1 = plt.subplot(111, aspect='equal')\n",
    "\n",
    "# Set up the colors\n",
    "pltColors = sns.light_palette(color='#5385bb',n_colors=5,reverse=True,input='RGB')\n",
    "\n",
    "# Plot the pie chart, \n",
    "df_jobtypes.plot.pie(y='Count', autopct='%1.1f%%', pctdistance=0.66, ax=ax1, startangle=0,\n",
    "                     colors=pltColors, legend=False, )\n",
    "\n",
    "# Draw the donut-hole\n",
    "my_circle = plt.Circle( (0,0), 0.5, color='white')\n",
    "figure = plt.gcf()\n",
    "figure.gca().add_artist(my_circle)\n",
    "\n",
    "# Draw the labels\n",
    "plt.title('Job Posts by Job Type', {'fontsize': '20' })\n",
    "plt.xlabel('')\n",
    "plt.ylabel('')\n",
    "\n",
    "plt.show()\n"
   ]
  },
  {
   "cell_type": "code",
   "execution_count": 30,
   "metadata": {},
   "outputs": [
    {
     "data": {
      "image/png": "[encoded data removed]",
      "text/plain": [
       "<Figure size 648x504 with 1 Axes>"
      ]
     },
     "metadata": {
      "needs_background": "light"
     },
     "output_type": "display_data"
    }
   ],
   "source": [
    "# Task 2-3\n",
    "# Display the list of job sectors and the number of jobs of each type using horizontal bar chart.\n",
    "\n",
    "# Create a new dataframe grouping by the Classification and sort it\n",
    "df_classifications = df3.groupby(\"Classification\").count()\n",
    "df_classifications = df_classifications.sort_values(by=['Id'], ascending = False)\n",
    "\n",
    "# Set up the dataset for the chart\n",
    "df_classifications['Count'] = df_classifications[\"Id\"]\n",
    "df_classifications['Label'] = df_classifications.index\n",
    "\n",
    "# Start creating the chart\n",
    "plt.figure(figsize=(9,7))\n",
    "barChart = sns.barplot(x='Id', y='Label', palette=\"Spectral\", data=df_classifications, dodge=False, zorder=2)\n",
    "\n",
    "# Set the ticks and gridlines\n",
    "plt.xticks(np.arange(0, 20001, 5000.0))\n",
    "plt.grid(which='major', axis='x',zorder=0)\n",
    "\n",
    "# Draw the labels\n",
    "plt.title('Number of Jobs by Classification', {'fontsize': '20' })\n",
    "plt.xlabel('Number of Jobs')\n",
    "plt.ylabel('Classification')\n",
    "plt.show()"
   ]
  },
  {
   "cell_type": "code",
   "execution_count": 31,
   "metadata": {},
   "outputs": [
    {
     "data": {
      "image/png": "[encoded data removed]",
      "text/plain": [
       "<Figure size 864x504 with 1 Axes>"
      ]
     },
     "metadata": {},
     "output_type": "display_data"
    }
   ],
   "source": [
    "# Task 2-4\n",
    "# Choose your favorite location. Visualize the market share of that location in pie chart.\n",
    "\n",
    "# Filter the DataFrame to only select jobs from ACT\n",
    "df_loc_jobclass = df3.loc[df3['Location'] == \"ACT\"]\n",
    "\n",
    "# Group the data by Classification\n",
    "df_loc_jobclass = df_loc_jobclass.groupby(\"Classification\").count()\n",
    "\n",
    "# Set up the data to plot and order it\n",
    "df_loc_jobclass['Count'] = df_loc_jobclass[\"Id\"]\n",
    "df_loc_jobclass['Label'] = df_loc_jobclass.index\n",
    "df_loc_jobclass = df_loc_jobclass.sort_values(by=['Count'], ascending = False)\n",
    "\n",
    "# Get the top 15 JobTypes\n",
    "df_plot = df_loc_jobclass[:15].copy()\n",
    "\n",
    "# Sum the remaing JobTypes and add them as a new row to the DataFrame\n",
    "new_row = pd.DataFrame(data = {\n",
    "    'Label' : \"Others\",\n",
    "    'Count' : [df_loc_jobclass['Count'][15:].sum()]\n",
    "})\n",
    "new_row.index = new_row['Label'] \n",
    "df_plot = pd.concat([df_plot, new_row])\n",
    "\n",
    "# Set up the canvas\n",
    "plt.figure(figsize=(12,7))\n",
    "ax1 = plt.subplot(111, aspect='equal')\n",
    "\n",
    "# Make a pleasing explode effect\n",
    "explode = np.arange(17, 1, -1) ** .7 * 0.01\n",
    "\n",
    "# Plot the pie chart, \n",
    "df_plot.plot.pie(y='Count', autopct='%1.1f', pctdistance=0.75, ax=ax1, startangle=0,\n",
    "                     cmap='Spectral', legend=False, explode=explode, labeldistance=1.05)\n",
    "\n",
    "# Draw the labels\n",
    "plt.title('Market share by Job Classification in ACT', {'fontsize': '20' })\n",
    "plt.xlabel('')\n",
    "plt.ylabel('')\n",
    "\n",
    "plt.show()"
   ]
  },
  {
   "cell_type": "code",
   "execution_count": 32,
   "metadata": {},
   "outputs": [
    {
     "data": {
      "image/png": "[encoded data removed]",
      "text/plain": [
       "<Figure size 1080x504 with 1 Axes>"
      ]
     },
     "metadata": {
      "needs_background": "light"
     },
     "output_type": "display_data"
    }
   ],
   "source": [
    "# Task 2-5\n",
    "# Can you find the salary distribution for the top 30 cities for the number of job postings?\n",
    "# Visualize them in the boxplot chart\n",
    "\n",
    "# Create a new dataframe grouping by the Location\n",
    "df_locations = df3.copy()\n",
    "\n",
    "\n",
    "# Get the top 30 locations by count of job postings\n",
    "df_toplocations = df_locations.groupby('Location').count()\n",
    "df_toplocations = df_toplocations.sort_values(by=['Id'], ascending = False)\n",
    "df_toplocations = df_toplocations[:30].copy()\n",
    "\n",
    "# Select only the locations in the toplocations DataFrame\n",
    "df_locations = df_locations.loc[df_locations['Location'].isin(df_toplocations.index)]\n",
    "\n",
    "# Start creating the chart\n",
    "plt.figure(figsize=(15,7))\n",
    "boxPlot = sns.boxplot(x='Location', y='HighestSalary', palette=\"BrBG_r\", data=df_locations,\n",
    "                       dodge=False, zorder=2)\n",
    "boxPlot.set_xticklabels(\n",
    "    boxPlot.get_xticklabels(), \n",
    "    rotation=90, \n",
    "    fontweight='light',\n",
    "    fontsize='small'\n",
    ")\n",
    "\n",
    "# Draw the labels\n",
    "plt.title('Locations and the Average Highest Salary', {'fontsize': '20' })\n",
    "plt.xlabel('Location')\n",
    "plt.ylabel('Highest Salary')\n",
    "plt.show()"
   ]
  }
 ],
 "metadata": {
  "kernelspec": {
   "display_name": "Python 3",
   "language": "python",
   "name": "python3"
  },
  "language_info": {
   "codemirror_mode": {
    "name": "ipython",
    "version": 3
   },
   "file_extension": ".py",
   "mimetype": "text/x-python",
   "name": "python",
   "nbconvert_exporter": "python",
   "pygments_lexer": "ipython3",
   "version": "3.7.6"
  }
 },
 "nbformat": 4,
 "nbformat_minor": 4
}
