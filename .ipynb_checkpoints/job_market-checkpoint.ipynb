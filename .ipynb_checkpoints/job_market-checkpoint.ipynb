{
 "cells": [
  {
   "cell_type": "code",
   "execution_count": null,
   "metadata": {},
   "outputs": [],
   "source": [
    "#Loading Data\n",
    "\n",
    "%matplotlib inline\n",
    "import numpy as np\n",
    "import pandas as pd\n",
    "\n",
    "df = pd.read_csv(\"data_assignment.csv\")\n",
    "df.head()\n"
   ]
  },
  {
   "cell_type": "code",
   "execution_count": null,
   "metadata": {
    "jupyter": {
     "outputs_hidden": false
    },
    "pycharm": {
     "name": "#%%\n"
    }
   },
   "outputs": [],
   "source": [
    "#How many records are there in the dataset?\n",
    "#Command returns the number of rows in the DataFrame\n",
    "\n",
    "len(df)"
   ]
  },
  {
   "cell_type": "code",
   "execution_count": null,
   "metadata": {
    "jupyter": {
     "outputs_hidden": false
    },
    "pycharm": {
     "name": "#%%\n"
    }
   },
   "outputs": [],
   "source": [
    "#Sorting values by date and showing the first 3 entries\n",
    "df.sort_values(['Date']).head(3)"
   ]
  },
  {
   "cell_type": "code",
   "execution_count": null,
   "metadata": {
    "jupyter": {
     "outputs_hidden": false
    },
    "pycharm": {
     "name": "#%%\n"
    }
   },
   "outputs": [],
   "source": [
    "#Sorting values by date and showing the last 3 entries\n",
    "df.sort_values(['Date']).tail(3)\n",
    "\n",
    "#First entry on 01/10/2018 and last on 13/11/2018"
   ]
  },
  {
   "cell_type": "code",
   "execution_count": null,
   "metadata": {
    "jupyter": {
     "outputs_hidden": false
    },
    "pycharm": {
     "name": "#%%\n"
    }
   },
   "outputs": [],
   "source": [
    "#Command returns the number of unique entries on the Date columns\n",
    "df['Date'].nunique()\n"
   ]
  },
  {
   "cell_type": "code",
   "execution_count": null,
   "metadata": {
    "jupyter": {
     "outputs_hidden": false
    },
    "pycharm": {
     "name": "#%%\n"
    }
   },
   "outputs": [],
   "source": [
    "#Command returns the number of unique entries on the Location columns\n",
    "df['Location'].nunique()"
   ]
  },
  {
   "cell_type": "code",
   "execution_count": null,
   "metadata": {
    "jupyter": {
     "outputs_hidden": false
    },
    "pycharm": {
     "name": "#%%\n"
    }
   },
   "outputs": [],
   "source": [
    "#Command returns the total rows for each column\n",
    "df.count()"
   ]
  },
  {
   "cell_type": "code",
   "execution_count": null,
   "metadata": {
    "pycharm": {
     "name": "#%%\n"
    }
   },
   "outputs": [],
   "source": [
    "#Command returns the total rows for each Location in the dataset\n",
    "df['Location'].value_counts()"
   ]
  },
  {
   "cell_type": "code",
   "execution_count": null,
   "metadata": {
    "jupyter": {
     "outputs_hidden": false
    },
    "pycharm": {
     "name": "#%%\n"
    }
   },
   "outputs": [],
   "source": [
    "#Command returns the total rows for each sector in the dataset\n",
    "df['Classification'].value_counts()"
   ]
  },
  {
   "cell_type": "code",
   "execution_count": null,
   "metadata": {
    "jupyter": {
     "outputs_hidden": false
    },
    "pycharm": {
     "name": "#%%\n"
    }
   },
   "outputs": [],
   "source": [
    "#Command returns the total rows for each sub-sector inside the Science & Technology sector in the dataset\n",
    "sciencedf = df[(df['Classification']==\"Science & Technology\")]\n",
    "sciencedf['SubClassification'].value_counts()"
   ]
  },
  {
   "cell_type": "code",
   "execution_count": null,
   "metadata": {
    "jupyter": {
     "outputs_hidden": false
    },
    "pycharm": {
     "name": "#%%\n"
    }
   },
   "outputs": [],
   "source": [
    "#Checking the total sub-sectors inside the Science & Technology sector\n",
    "sciencedf['SubClassification'].nunique()"
   ]
  },
  {
   "cell_type": "code",
   "execution_count": null,
   "metadata": {
    "jupyter": {
     "outputs_hidden": false
    },
    "pycharm": {
     "name": "#%%\n"
    }
   },
   "outputs": [],
   "source": [
    "#Listing the number of rows by LowestSalary and HighestSalary\n",
    "salary_count = df.groupby(['LowestSalary','HighestSalary']).size()\n",
    "print (salary_count)"
   ]
  },
  {
   "cell_type": "code",
   "execution_count": null,
   "metadata": {
    "jupyter": {
     "outputs_hidden": false
    },
    "pycharm": {
     "name": "#%%\n"
    }
   },
   "outputs": [],
   "source": [
    "#Seting up and cleaning a new DataFrame\n",
    "df2 = pd.read_csv(\"data_assignment.csv\")\n",
    "del df2['Id']\n",
    "del df2['Title']\n",
    "del df2['Company']\n",
    "del df2['Date']\n",
    "del df2['Location']\n",
    "del df2['Area']\n",
    "del df2['SubClassification']\n",
    "del df2['FullDescription']\n",
    "del df2['Requirement']\n",
    "del df2['Classification']\n",
    "del df2['HighestSalary']\n",
    "\n",
    "df4 = pd.read_csv(\"data_assignment.csv\")\n",
    "del df4['Id']\n",
    "del df4['Title']\n",
    "del df4['Company']\n",
    "del df4['Date']\n",
    "del df4['Location']\n",
    "del df4['Area']\n",
    "del df4['SubClassification']\n",
    "del df4['FullDescription']\n",
    "del df4['Requirement']\n",
    "del df4['Classification']\n",
    "del df4['LowestSalary']\n",
    "\n",
    "by_job = df2.groupby('JobType')\n",
    "by_job2 = df4.groupby('JobType')"
   ]
  },
  {
   "cell_type": "code",
   "execution_count": null,
   "metadata": {},
   "outputs": [],
   "source": [
    "# ID column data cleaned\n",
    "df2 = pd.read_csv(\"data_assignment.csv\")"
   ]
  },
  {
   "cell_type": "code",
   "execution_count": null,
   "metadata": {
    "jupyter": {
     "outputs_hidden": false
    },
    "pycharm": {
     "name": "#%%\n"
    }
   },
   "outputs": [],
   "source": [
    "#Listing the lowest value of LowestSalary and the highest value of HighestSalary by Job Type\n",
    "lowest_values = by_job.min()\n",
    "highest_values = by_job2.max()\n",
    "pd.merge(lowest_values, highest_values, on='JobType')"
   ]
  },
  {
   "cell_type": "code",
   "execution_count": null,
   "metadata": {
    "scrolled": true
   },
   "outputs": [],
   "source": [
    "# Part 1.2 - Normalise and Clean Data\n",
    "#######################################\n",
    "\n",
    "# Average Salary Field created\n",
    "%matplotlib inline\n",
    "import numpy as np\n",
    "import matplotlib.pyplot as plt\n",
    "import seaborn as sns\n",
    "import pandas as pd\n",
    "\n",
    "df2 = pd.read_csv(\"data_assignment.csv\")\n",
    "\n",
    "df2[\"AverageSalary\"] = (df2[\"LowestSalary\"] + df2[\"HighestSalary\"])/2 * 1000\n",
    "df_averagesalary = df2.groupby(\"JobType\").count()\n",
    "\n",
    "df_averagesalary[['LowestSalary', 'HighestSalary', 'AverageSalary']]"
   ]
  },
  {
   "cell_type": "code",
   "execution_count": null,
   "metadata": {},
   "outputs": [],
   "source": [
    "# Id column data cleaned\n",
    "df2[\"Id\"] = df2[\"Id\"].astype(str) \n",
    "df2[\"Id\"] = df2[\"Id\"].str.slice(0,8,1)\n",
    "\n",
    "df2.head()"
   ]
  },
  {
   "cell_type": "code",
   "execution_count": null,
   "metadata": {},
   "outputs": [],
   "source": [
    "# Date column data cleaned\n",
    "df2[\"Date\"] = df2[\"Date\"].replace(to_replace=r'T.*', value='', regex=True)\n",
    "\n",
    "df2.head()"
   ]
  },
  {
   "cell_type": "code",
   "execution_count": null,
   "metadata": {},
   "outputs": [],
   "source": [
    "# Types of ID and Date changed\n",
    "\n",
    "df2[\"Id\"] = pd.to_numeric(df2[\"Id\"])\n",
    "df2[\"Date\"] = pd.to_datetime(df2[\"Date\"])\n",
    "\n",
    "df2.dtypes"
   ]
  },
  {
   "cell_type": "code",
   "execution_count": null,
   "metadata": {},
   "outputs": [],
   "source": [
    "df2[df2.duplicated(keep=False)]"
   ]
  },
  {
   "cell_type": "code",
   "execution_count": null,
   "metadata": {},
   "outputs": [],
   "source": [
    "# Duplicate Data Checking\n",
    "\n",
    "df2[df2.duplicated()].count()"
   ]
  },
  {
   "cell_type": "code",
   "execution_count": null,
   "metadata": {},
   "outputs": [],
   "source": [
    "df2.isnull().sum()"
   ]
  },
  {
   "cell_type": "code",
   "execution_count": null,
   "metadata": {},
   "outputs": [],
   "source": [
    "plt.figure(figsize=(15,15))\n",
    "sns.countplot(y='Id',data=df2.isnull(),order=df2.Id.value_counts().index)\n",
    "plt.title('Missing data')\n",
    "plt.xlabel('Number of missing datapoints')\n",
    "plt.show()"
   ]
  },
  {
   "cell_type": "code",
   "execution_count": null,
   "metadata": {},
   "outputs": [],
   "source": [
    "df_nullfields = df2.isnull()\n",
    "df_nullfields = df_nullfields.sort_values(by=['Id'], ascending = False)\n",
    "\n",
    "df_nullfields['Count'] = df_nullfields[\"Id\"]\n",
    "df_nullfields['Label'] = df_nullfields.index\n",
    "\n",
    "plt.figure(figsize=(9,7))\n",
    "barChart = sns.barplot(x='Id', y='Label', palette=\"Spectral\", data=df_nullfields, dodge=False, zorder=2)\n",
    "\n",
    "plt.xticks(np.arange(0, 20001, 5000.0))\n",
    "plt.grid(which='major', axis='x',zorder=0)\n",
    "\n",
    "# Draw the labels\n",
    "plt.title('Missing data in Dataset', {'fontsize': '20' })\n",
    "plt.xlabel('Amount of missing data')\n",
    "plt.ylabel('Attribute')\n",
    "plt.show()"
   ]
  },
  {
   "cell_type": "code",
   "execution_count": null,
   "metadata": {},
   "outputs": [],
   "source": [
    "# Missing Data Check"
   ]
  },
  {
   "cell_type": "code",
   "execution_count": null,
   "metadata": {
    "jupyter": {
     "outputs_hidden": false
    },
    "pycharm": {
     "name": "#%%\n"
    }
   },
   "outputs": [],
   "source": [
    "# PART 2 - Data Analysis and Interpretation\n",
    "###########################################\n",
    "\n",
    "%matplotlib inline\n",
    "\n",
    "import matplotlib.pyplot as plt\n",
    "import seaborn as sns\n",
    "\n",
    "# Set up and read a new DataFrame\n",
    "\n",
    "df3 = pd.read_csv(\"data_assignment.csv\")"
   ]
  },
  {
   "cell_type": "code",
   "execution_count": null,
   "metadata": {
    "jupyter": {
     "outputs_hidden": false
    },
    "pycharm": {
     "name": "#%%\n"
    }
   },
   "outputs": [],
   "source": [
    "# Task 1\n",
    "# Get the salary ranges using “AverageSalary”, the total jobs of each range and display them in\n",
    "# the bar chart.\n",
    "\n",
    "df3[\"AverageSalary\"] = (df3[\"LowestSalary\"] + df3[\"HighestSalary\"])/2 * 1000\n",
    "\n",
    "df_averagesalary = df3.groupby(\"AverageSalary\").count()\n",
    "df_averagesalary['Count'] = df_averagesalary[\"Id\"]\n",
    "df_averagesalary['Label'] = df_averagesalary.index\n",
    "df_averagesalary['Label'] = df_averagesalary['Label'].map('{:,.0f}'.format)\n",
    "\n",
    "df_averagesalary = df_averagesalary.sort_values(by=['Count'], ascending = False)"
   ]
  },
  {
   "cell_type": "code",
   "execution_count": null,
   "metadata": {
    "jupyter": {
     "outputs_hidden": false
    },
    "pycharm": {
     "name": "#%%\n"
    }
   },
   "outputs": [],
   "source": [
    "plt.figure(figsize=(12,7))\n",
    "\n",
    "sns.set_color_codes()\n",
    "\n",
    "barChart = sns.barplot(x='Label', y='Id', color='b', data=df_averagesalary, dodge=False)\n",
    "barChart.set_xticklabels(\n",
    "    barChart.get_xticklabels(), \n",
    "    rotation=45, \n",
    "    horizontalalignment='right',\n",
    "    fontweight='light',\n",
    "    fontsize='small'\n",
    ")\n",
    "\n",
    "plt.title('job distribution by average salary', {'fontsize': '20' })\n",
    "plt.xlabel('')\n",
    "plt.ylabel('')\n",
    "plt.show()"
   ]
  },
  {
   "cell_type": "code",
   "execution_count": null,
   "metadata": {},
   "outputs": [],
   "source": [
    "# Task 1\n",
    "# Get the salary ranges using “AverageSalary”, the total jobs of each range and display them in\n",
    "# the bar chart.\n",
    "\n",
    "# Calculate the average salary\n",
    "df3[\"AverageSalary\"] = (df3[\"LowestSalary\"] + df3[\"HighestSalary\"])/2 * 1000\n",
    "\n",
    "# Create a new dataframe grouping by the AverageSalary and sort it\n",
    "df_averagesalary = df3.groupby(\"AverageSalary\").count()\n",
    "df_averagesalary = df_averagesalary.sort_values(by=['AverageSalary'], ascending = True)\n",
    "\n",
    "# Set up the dataset for the chart\n",
    "df_averagesalary['Count'] = df_averagesalary[\"Id\"]\n",
    "df_averagesalary['Label'] = df_averagesalary.index\n",
    "df_averagesalary['Label'] = df_averagesalary['Label'].map('{:,.0f}'.format)\n",
    "\n",
    "# Start creating the chart\n",
    "plt.figure(figsize=(12,7))\n",
    "\n",
    "# Reset colors\n",
    "sns.set_color_codes()\n",
    "\n",
    "barChart = sns.barplot(x='Label', y='Id', color='b', data=df_averagesalary, dodge=False)\n",
    "barChart.set_xticklabels(\n",
    "    barChart.get_xticklabels(), \n",
    "    rotation=45, \n",
    "    horizontalalignment='right',\n",
    "    fontweight='light',\n",
    "    fontsize='small'\n",
    ")\n",
    "\n",
    "plt.title('job distribution by average salary', {'fontsize': '20' })\n",
    "plt.xlabel('')\n",
    "plt.ylabel('')\n",
    "plt.show()"
   ]
  },
  {
   "cell_type": "code",
   "execution_count": null,
   "metadata": {},
   "outputs": [],
   "source": [
    "# Task 2\n",
    "# Display the list of job types and the number of jobs of each type using pie chart.\n",
    "\n",
    "# Get the list of JobTypes with the count for each\n",
    "df_jobtypes = df3.groupby(\"JobType\").count()\n",
    "\n",
    "# Set up the data to plot\n",
    "df_jobtypes['Count'] = df_jobtypes[\"Id\"]\n",
    "df_jobtypes['Label'] = df_jobtypes.index\n",
    "df_jobtypes = df_jobtypes.sort_values(by=['Count'], ascending = False)\n",
    "\n",
    "# Set up the canvas\n",
    "plt.figure(figsize=(12,7))\n",
    "ax1 = plt.subplot(111, aspect='equal')\n",
    "\n",
    "# Set up the colors\n",
    "pltColors = sns.light_palette(color='#5385bb',n_colors=5,reverse=True,input='RGB')\n",
    "\n",
    "# Plot the pie chart, \n",
    "df_jobtypes.plot.pie(y='Count', autopct='%1.1f%%', pctdistance=0.66, ax=ax1, startangle=0,\n",
    "                     colors=pltColors, legend=False, )\n",
    "\n",
    "# Draw the donut-hole\n",
    "my_circle = plt.Circle( (0,0), 0.5, color='white')\n",
    "figure = plt.gcf()\n",
    "figure.gca().add_artist(my_circle)\n",
    "\n",
    "# Draw the labels\n",
    "plt.title('Job Posts by Job Type', {'fontsize': '20' })\n",
    "plt.xlabel('')\n",
    "plt.ylabel('')\n",
    "\n",
    "plt.show()\n"
   ]
  },
  {
   "cell_type": "code",
   "execution_count": null,
   "metadata": {},
   "outputs": [],
   "source": [
    "# Task 3\n",
    "# Display the list of job sectors and the number of jobs of each type using horizontal bar chart.\n",
    "\n",
    "# Create a new dataframe grouping by the Classification and sort it\n",
    "df_classifications = df3.groupby(\"Classification\").count()\n",
    "df_classifications = df_classifications.sort_values(by=['Id'], ascending = False)\n",
    "\n",
    "# Set up the dataset for the chart\n",
    "df_classifications['Count'] = df_classifications[\"Id\"]\n",
    "df_classifications['Label'] = df_classifications.index\n",
    "\n",
    "# Start creating the chart\n",
    "plt.figure(figsize=(9,7))\n",
    "barChart = sns.barplot(x='Id', y='Label', palette=\"Spectral\", data=df_classifications, dodge=False, zorder=2)\n",
    "\n",
    "# Set the ticks and gridlines\n",
    "plt.xticks(np.arange(0, 20001, 5000.0))\n",
    "plt.grid(which='major', axis='x',zorder=0)\n",
    "\n",
    "# Draw the labels\n",
    "plt.title('Number of Jobs by Classification', {'fontsize': '20' })\n",
    "plt.xlabel('Number of Jobs')\n",
    "plt.ylabel('Classification')\n",
    "plt.show()"
   ]
  },
  {
   "cell_type": "code",
   "execution_count": null,
   "metadata": {},
   "outputs": [],
   "source": [
    "# Task 4\n",
    "# Choose your favorite location. Visualize the market share of that location in pie chart.\n",
    "\n",
    "# Filter the DataFrame to only select jobs from ACT\n",
    "df_loc_jobclass = df3.loc[df3['Location'] == \"ACT\"]\n",
    "\n",
    "# Group the data by Classification\n",
    "df_loc_jobclass = df_loc_jobclass.groupby(\"Classification\").count()\n",
    "\n",
    "# Set up the data to plot and order it\n",
    "df_loc_jobclass['Count'] = df_loc_jobclass[\"Id\"]\n",
    "df_loc_jobclass['Label'] = df_loc_jobclass.index\n",
    "df_loc_jobclass = df_loc_jobclass.sort_values(by=['Count'], ascending = False)\n",
    "\n",
    "# Get the top 15 JobTypes\n",
    "df_plot = df_loc_jobclass[:15].copy()\n",
    "\n",
    "# Sum the remaing JobTypes and add them as a new row to the DataFrame\n",
    "new_row = pd.DataFrame(data = {\n",
    "    'Label' : \"Others\",\n",
    "    'Count' : [df_loc_jobclass['Count'][15:].sum()]\n",
    "})\n",
    "new_row.index = new_row['Label'] \n",
    "df_plot = pd.concat([df_plot, new_row])\n",
    "\n",
    "# Set up the canvas\n",
    "plt.figure(figsize=(12,7))\n",
    "ax1 = plt.subplot(111, aspect='equal')\n",
    "\n",
    "# Make a pleasing explode effect\n",
    "explode = np.arange(17, 1, -1) ** .7 * 0.01\n",
    "\n",
    "# Plot the pie chart, \n",
    "df_plot.plot.pie(y='Count', autopct='%1.1f', pctdistance=0.75, ax=ax1, startangle=0,\n",
    "                     cmap='Spectral', legend=False, explode=explode, labeldistance=1.05)\n",
    "\n",
    "# Draw the labels\n",
    "plt.title('Market share by Job Classification in ACT', {'fontsize': '20' })\n",
    "plt.xlabel('')\n",
    "plt.ylabel('')\n",
    "\n",
    "plt.show()"
   ]
  },
  {
   "cell_type": "code",
   "execution_count": null,
   "metadata": {},
   "outputs": [],
   "source": [
    "# Task 5\n",
    "# Can you find the salary distribution for the top 30 cities for the number of job postings?\n",
    "# Visualize them in the boxplot chart\n",
    "\n",
    "# Create a new dataframe grouping by the Location\n",
    "df_locations = df3.copy()\n",
    "\n",
    "\n",
    "# Get the top 30 locations by count of job postings\n",
    "df_toplocations = df_locations.groupby('Location').count()\n",
    "df_toplocations = df_toplocations.sort_values(by=['Id'], ascending = False)\n",
    "df_toplocations = df_toplocations[:30].copy()\n",
    "\n",
    "# Select only the locations in the toplocations DataFrame\n",
    "df_locations = df_locations.loc[df_locations['Location'].isin(df_toplocations.index)]\n",
    "\n",
    "# Start creating the chart\n",
    "plt.figure(figsize=(15,7))\n",
    "boxPlot = sns.boxplot(x='Location', y='HighestSalary', palette=\"BrBG_r\", data=df_locations,\n",
    "                       dodge=False, zorder=2)\n",
    "boxPlot.set_xticklabels(\n",
    "    boxPlot.get_xticklabels(), \n",
    "    rotation=90, \n",
    "    fontweight='light',\n",
    "    fontsize='small'\n",
    ")\n",
    "\n",
    "# Draw the labels\n",
    "plt.title('Locations and the Average Highest Salary', {'fontsize': '20' })\n",
    "plt.xlabel('Location')\n",
    "plt.ylabel('Highest Salary')\n",
    "plt.show()"
   ]
  },
  {
   "cell_type": "code",
   "execution_count": null,
   "metadata": {},
   "outputs": [],
   "source": []
  }
 ],
 "metadata": {
  "kernelspec": {
   "display_name": "Python 3",
   "language": "python",
   "name": "python3"
  },
  "language_info": {
   "codemirror_mode": {
    "name": "ipython",
    "version": 3
   },
   "file_extension": ".py",
   "mimetype": "text/x-python",
   "name": "python",
   "nbconvert_exporter": "python",
   "pygments_lexer": "ipython3",
   "version": "3.7.6"
  }
 },
 "nbformat": 4,
 "nbformat_minor": 4
}
